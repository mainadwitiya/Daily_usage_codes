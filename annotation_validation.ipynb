{
  "nbformat": 4,
  "nbformat_minor": 0,
  "metadata": {
    "kernelspec": {
      "display_name": "Python 3",
      "language": "python",
      "name": "python3"
    },
    "language_info": {
      "codemirror_mode": {
        "name": "ipython",
        "version": 3
      },
      "file_extension": ".py",
      "mimetype": "text/x-python",
      "name": "python",
      "nbconvert_exporter": "python",
      "pygments_lexer": "ipython3",
      "version": "3.6.8"
    },
    "colab": {
      "name": "annotation_validation.ipynb",
      "provenance": [],
      "include_colab_link": true
    }
  },
  "cells": [
    {
      "cell_type": "markdown",
      "metadata": {
        "id": "view-in-github",
        "colab_type": "text"
      },
      "source": [
        "<a href=\"https://colab.research.google.com/github/mainadwitiya/Daily_usage_codes/blob/main/annotation_validation.ipynb\" target=\"_parent\"><img src=\"https://colab.research.google.com/assets/colab-badge.svg\" alt=\"Open In Colab\"/></a>"
      ]
    },
    {
      "cell_type": "code",
      "metadata": {
        "id": "jXXvMJzP7VB5"
      },
      "source": [
        "import xml.etree.ElementTree as ET\n",
        "import cv2\n",
        "import os\n",
        "import shutil"
      ],
      "execution_count": null,
      "outputs": []
    },
    {
      "cell_type": "code",
      "metadata": {
        "id": "RU76k-xH7VCI"
      },
      "source": [
        "img_path = r\"/app/bank_cheque_extraction/data/image_dir/data\"\n",
        "xml_path = r\"/app/bank_cheque_extraction/data/xml_dir/data\"\n",
        "images_without_xml = r\"/app/bank_cheque_extraction/validation/images_without_xml\"\n",
        "faulty_image_coordinates = r\"/app/bank_cheque_extraction/validation/faulty_image_coordinates\"\n",
        "new_xml_clean_path = r\"/app/bank_cheque_extraction/validation/corrected_xmls_classes\"\n",
        "images_with_bounding_boxes_path = r\"/app/bank_cheque_extraction/validation/box_validation\""
      ],
      "execution_count": null,
      "outputs": []
    },
    {
      "cell_type": "code",
      "metadata": {
        "id": "TOF1-d5p7VCK"
      },
      "source": [
        "i=0\n",
        "for xml in os.listdir(xml_path):\n",
        "    if xml.split(\".\")[-1].lower() == \"xml\":\n",
        "        xml_dir_path = os.path.join(xml_path,xml)\n",
        "        tree = ET.parse(xml_dir_path)\n",
        "        root = tree.getroot()   \n",
        "        image_name = xml.split(\".\")[0]+\".jpg\"\n",
        "        img = cv2.imread(os.path.join(img_path,image_name))\n",
        "        for child in root.findall(\"./object\"):\n",
        "            for child_obj in child:\n",
        "                if child_obj.tag == \"name\":\n",
        "                    attr_bname = child_obj.text\n",
        "                if child_obj.tag == \"bndbox\":\n",
        "                    location = []\n",
        "                    for child_bnd_box in child_obj:\n",
        "                        location.append(int(child_bnd_box.text))\n",
        "                    #print(location)\n",
        "\n",
        "                    rec_img = cv2.rectangle(img,(location[0],location[1]),(location[2],location[3]),(0,255,0),2)\n",
        "                    cv2.putText(rec_img, attr_bname, (location[0], location[1]+20), cv2.FONT_HERSHEY_SIMPLEX, 0.9, (0,0,255), 2)\n",
        "\n",
        "        cv2.imwrite(os.path.join(images_with_bounding_boxes_path,image_name),rec_img)\n",
        "        i+=1"
      ],
      "execution_count": null,
      "outputs": []
    },
    {
      "cell_type": "code",
      "metadata": {
        "id": "jTBDMLcx7VCM"
      },
      "source": [
        "for image in os.listdir(img_path):\n",
        "    xml_name = image_name = image.split(\".\")[0]+\".xml\"\n",
        "    if xml_name not in os.listdir(xml_path):\n",
        "        shutil.move(os.path.join(img_path,image),os.path.join(images_without_xml,image))\n",
        "        "
      ],
      "execution_count": null,
      "outputs": []
    },
    {
      "cell_type": "code",
      "metadata": {
        "id": "QGPFVBmP7VCN"
      },
      "source": [
        "i=0\n",
        "for xml in os.listdir(xml_path):\n",
        "    x_flag = False\n",
        "    y_flag = False\n",
        "    if xml.split(\".\")[-1].lower() == \"xml\":\n",
        "        xml_dir_path = os.path.join(xml_path,xml)\n",
        "        tree = ET.parse(xml_dir_path)\n",
        "        root = tree.getroot() \n",
        "        for child in root:\n",
        "            if child.tag == \"size\":\n",
        "                for child_obj in child:\n",
        "                    if child_obj.tag == \"width\":\n",
        "                        image_width = child_obj.text\n",
        "                    if child_obj.tag == \"height\":\n",
        "                        image_height = child_obj.text\n",
        "        for child in root.findall(\"./object\"):\n",
        "            for child_obj in child:\n",
        "                if child_obj.tag == \"name\":\n",
        "                    attr_bname = child_obj.text\n",
        "                if child_obj.tag == \"bndbox\":\n",
        "                    location = []\n",
        "                    for child_bnd_box in child_obj:\n",
        "                        location.append(int(child_bnd_box.text))\n",
        "                    x_min = int(image_width)/int(location[0])\n",
        "                    y_min = int(image_height)/int(location[1])\n",
        "                    x_max = int(image_width)/int(location[2])\n",
        "                    y_max = int(image_height)/int(location[3])\n",
        "                    \n",
        "#                     print(type(x_min),type(x_max),type(image_width))\n",
        "                    if int(x_min) < 0 or int(x_max) > int(image_width):\n",
        "                        print(xml)\n",
        "                        x_flag = True\n",
        "                    \n",
        "                    if int(y_min) < 0 or int(y_max) > int(image_height):\n",
        "                        print(xml)\n",
        "                        y_flag = True\n",
        "                        \n",
        "                        \n",
        "        if x_flag == True or y_flag == True:\n",
        "            shutil.move(os.path.join(image_path,xml.split(\".\")[0]+\".jpg\"),os.path.join(faulty_image_coordinates,xml.split(\".\")[0]+\".jpg\"))\n",
        "            shutil.move(os.path.join(xml_path,xml),os.path.join(faulty_image_coordinates,xml))"
      ],
      "execution_count": null,
      "outputs": []
    },
    {
      "cell_type": "markdown",
      "metadata": {
        "id": "sYJ5UdK57VCP"
      },
      "source": [
        "# Find unique classes in the xml"
      ]
    },
    {
      "cell_type": "code",
      "metadata": {
        "id": "ei3OBkG97VCQ"
      },
      "source": [
        "def class_names_check_xml(ip_xml_path,new_xml_path):\n",
        "    classes = []\n",
        "    for xml in os.listdir(ip_xml_path):\n",
        "        if xml.split(\".\")[-1].lower() == \"xml\":\n",
        "            xml_dir_path = os.path.join(ip_xml_path,xml)\n",
        "            tree = ET.parse(xml_dir_path)\n",
        "            root = tree.getroot() \n",
        "            for child in root.findall(\"./object\"):\n",
        "                for child_obj in child:\n",
        "                    if child_obj.tag == \"name\":\n",
        "                        attr_name = child_obj.text\n",
        "                        classes.append(attr_name)\n",
        "                        if attr_name == \"Footer\":\n",
        "                            child_obj.text = \"footer\"\n",
        "                        elif attr_name == \"Header\":\n",
        "                            child_obj.text = \"header\"\n",
        "                        elif attr_name == \"Section\":\n",
        "                            child_obj.text = \"section\"\n",
        "                        elif attr_name == \"Table of Content\":\n",
        "                            child_obj.text = \"content\"\n",
        "            tree.write(os.path.join(new_xml_path,xml))\n",
        "    \n",
        "    return set(classes)\n",
        "                    \n"
      ],
      "execution_count": null,
      "outputs": []
    },
    {
      "cell_type": "code",
      "metadata": {
        "id": "9rl2BCBY7VCT",
        "outputId": "b3d157b3-890b-4e51-e65f-0435d169a92c"
      },
      "source": [
        "out_classes = class_names_check_xml(xml_path,new_xml_clean_path)\n",
        "print(out_classes)"
      ],
      "execution_count": null,
      "outputs": [
        {
          "output_type": "stream",
          "text": [
            "{'account_no', 'micr', 'ifsc'}\n"
          ],
          "name": "stdout"
        }
      ]
    },
    {
      "cell_type": "code",
      "metadata": {
        "id": "TAb061-y7VCW",
        "outputId": "41a8a394-95bf-4183-917f-ee1f511934b8"
      },
      "source": [
        "set(out_classes)"
      ],
      "execution_count": null,
      "outputs": [
        {
          "output_type": "execute_result",
          "data": {
            "text/plain": [
              "{'account_no', 'ifsc', 'micr'}"
            ]
          },
          "metadata": {
            "tags": []
          },
          "execution_count": 8
        }
      ]
    },
    {
      "cell_type": "code",
      "metadata": {
        "id": "WNkltW_27VCX"
      },
      "source": [
        "image_p = r\"E:\\office\\docinsight\\annotation_completed\\annotation\\AHM 4A_GCC\\images\\images\\out_11.jpg\""
      ],
      "execution_count": null,
      "outputs": []
    },
    {
      "cell_type": "code",
      "metadata": {
        "id": "eApFkELt7VCX"
      },
      "source": [
        "img = cv2.imread(image_p)"
      ],
      "execution_count": null,
      "outputs": []
    },
    {
      "cell_type": "code",
      "metadata": {
        "id": "pzo5RK8Y7VCY"
      },
      "source": [
        "cropped_img = img[2039:3274,116:4004]"
      ],
      "execution_count": null,
      "outputs": []
    },
    {
      "cell_type": "code",
      "metadata": {
        "id": "tMii4QB27VCZ"
      },
      "source": [
        "cv2.imwrite(r\"E:\\office\\docinsight\\annotation_completed\\annotation\\AHM 4A_GCC\\images\\cropped.jpg\",cropped_img)"
      ],
      "execution_count": null,
      "outputs": []
    },
    {
      "cell_type": "code",
      "metadata": {
        "id": "wwfFnFtG7VCZ"
      },
      "source": [
        "img = cv2.imread(r\"E:\\office\\datasheets\\bhushan_datasheets\\SAMPLE-1 06.07.20\\400KV GIS-ABB\\90fcb02a-c590-4a49-be10-00f6a948c691-15.jpg\")"
      ],
      "execution_count": null,
      "outputs": []
    },
    {
      "cell_type": "code",
      "metadata": {
        "id": "QTNfxGr47VCa"
      },
      "source": [
        "cropped_img = img[864:1752,108:1536]"
      ],
      "execution_count": null,
      "outputs": []
    },
    {
      "cell_type": "code",
      "metadata": {
        "id": "zNhZpjCP7VCa",
        "outputId": "d8a68c65-2f05-4ca2-8208-e96a6dec331e"
      },
      "source": [
        "cv2.imwrite(r\"E:\\office\\datasheets\\bhushan_datasheets\\SAMPLE-1 06.07.20\\400KV GIS-ABB\\15.jpg\",cropped_img)"
      ],
      "execution_count": null,
      "outputs": [
        {
          "output_type": "execute_result",
          "data": {
            "text/plain": [
              "True"
            ]
          },
          "metadata": {
            "tags": []
          },
          "execution_count": 8
        }
      ]
    },
    {
      "cell_type": "code",
      "metadata": {
        "id": "jGRRFAql7VCb",
        "outputId": "dafd8607-012e-4a5e-a8b2-f4840b53efd1"
      },
      "source": [
        "cropped_img"
      ],
      "execution_count": null,
      "outputs": [
        {
          "output_type": "execute_result",
          "data": {
            "text/plain": [
              "array([[[  0,   0,   0],\n",
              "        [  0,   0,   0],\n",
              "        [  0,   0,   0],\n",
              "        ...,\n",
              "        [255, 255, 255],\n",
              "        [255, 255, 255],\n",
              "        [255, 255, 255]],\n",
              "\n",
              "       [[  0,   0,   0],\n",
              "        [  0,   0,   0],\n",
              "        [  0,   0,   0],\n",
              "        ...,\n",
              "        [255, 255, 255],\n",
              "        [255, 255, 255],\n",
              "        [255, 255, 255]],\n",
              "\n",
              "       [[  0,   0,   0],\n",
              "        [  0,   0,   0],\n",
              "        [  0,   0,   0],\n",
              "        ...,\n",
              "        [255, 255, 255],\n",
              "        [255, 255, 255],\n",
              "        [255, 255, 255]],\n",
              "\n",
              "       ...,\n",
              "\n",
              "       [[  0,   0,   0],\n",
              "        [  0,   0,   0],\n",
              "        [  0,   0,   0],\n",
              "        ...,\n",
              "        [255, 255, 255],\n",
              "        [255, 255, 255],\n",
              "        [255, 255, 255]],\n",
              "\n",
              "       [[  0,   0,   0],\n",
              "        [  0,   0,   0],\n",
              "        [  0,   0,   0],\n",
              "        ...,\n",
              "        [255, 255, 255],\n",
              "        [255, 255, 255],\n",
              "        [255, 255, 255]],\n",
              "\n",
              "       [[  0,   0,   0],\n",
              "        [  0,   0,   0],\n",
              "        [  0,   0,   0],\n",
              "        ...,\n",
              "        [255, 255, 255],\n",
              "        [255, 255, 255],\n",
              "        [255, 255, 255]]], dtype=uint8)"
            ]
          },
          "metadata": {
            "tags": []
          },
          "execution_count": 9
        }
      ]
    },
    {
      "cell_type": "code",
      "metadata": {
        "id": "SDqd8cCm7VCc"
      },
      "source": [
        "import matplotlib.pyplot as plt"
      ],
      "execution_count": null,
      "outputs": []
    },
    {
      "cell_type": "code",
      "metadata": {
        "id": "AJsEBUn_7VCc",
        "outputId": "2d390bad-785b-4935-d7ca-ab64ad94d691"
      },
      "source": [
        "plt.imshow(cropped_img)"
      ],
      "execution_count": null,
      "outputs": [
        {
          "output_type": "execute_result",
          "data": {
            "text/plain": [
              "<matplotlib.image.AxesImage at 0x2323e4b1c48>"
            ]
          },
          "metadata": {
            "tags": []
          },
          "execution_count": 11
        },
        {
          "output_type": "display_data",
          "data": {
            "image/png": "[encoded data removed]",
            "text/plain": [
              "<Figure size 432x288 with 1 Axes>"
            ]
          },
          "metadata": {
            "tags": [],
            "needs_background": "light"
          }
        }
      ]
    },
    {
      "cell_type": "code",
      "metadata": {
        "id": "UwUB0YSX7VCd"
      },
      "source": [
        "import numpy as np"
      ],
      "execution_count": null,
      "outputs": []
    },
    {
      "cell_type": "code",
      "metadata": {
        "id": "uTLFBj2S7VCe"
      },
      "source": [
        "# img = cv2.imread(cropped_img)\n",
        "kernel = np.ones((3,3),np.uint8)\n",
        "erosion = cv2.dilate(cropped_img,kernel,iterations = 4)"
      ],
      "execution_count": null,
      "outputs": []
    },
    {
      "cell_type": "code",
      "metadata": {
        "id": "hYI93_Fv7VCe"
      },
      "source": [
        "plt.imshow(erosion)"
      ],
      "execution_count": null,
      "outputs": []
    },
    {
      "cell_type": "code",
      "metadata": {
        "id": "KHURg5Ny7VCf"
      },
      "source": [
        "def skeletonize(image, structuring=cv2.MORPH_RECT):\n",
        "    # determine the area (i.e. total number of pixels in the image),\n",
        "    # initialize the output skeletonized image, and construct the\n",
        "    # morphological structuring element\n",
        "    area = image.shape[0] * image.shape[1]\n",
        "    skeleton = np.zeros(image.shape, dtype=\"uint8\")\n",
        "    elem = cv2.getStructuringElement(structuring, (3,3))\n",
        " \n",
        "    # keep looping until the erosions remove all pixels from the\n",
        "    # image\n",
        "    while True:\n",
        "        # erode and dilate the image using the structuring element\n",
        "        eroded = cv2.erode(image, elem)\n",
        "        temp = cv2.dilate(eroded, elem)\n",
        " \n",
        "        # subtract the temporary image from the original, eroded\n",
        "        # image, then take the bitwise 'or' between the skeleton\n",
        "        # and the temporary image\n",
        "        temp = cv2.subtract(image, temp)\n",
        "        skeleton = cv2.bitwise_or(skeleton, temp)\n",
        "        image = eroded.copy()\n",
        " \n",
        "        # if there are no more 'white' pixels in the image, then\n",
        "        # break from the loop\n",
        "        if area == area - cv2.countNonZero(image):\n",
        "            break\n",
        " \n",
        "    # return the skeletonized image\n",
        "    return skeleton"
      ],
      "execution_count": null,
      "outputs": []
    },
    {
      "cell_type": "code",
      "metadata": {
        "id": "A6BJ1fvg7VCg",
        "outputId": "853642a6-8e5c-4376-8160-31327ca57f11"
      },
      "source": [
        "skeletonize(cropped_img, (3,3), structuring=cv2.MORPH_RECT)"
      ],
      "execution_count": null,
      "outputs": [
        {
          "output_type": "error",
          "ename": "TypeError",
          "evalue": "skeletonize() got multiple values for argument 'structuring'",
          "traceback": [
            "\u001b[1;31m---------------------------------------------------------------------------\u001b[0m",
            "\u001b[1;31mTypeError\u001b[0m                                 Traceback (most recent call last)",
            "\u001b[1;32m<ipython-input-15-96969a621892>\u001b[0m in \u001b[0;36m<module>\u001b[1;34m\u001b[0m\n\u001b[1;32m----> 1\u001b[1;33m \u001b[0mskeletonize\u001b[0m\u001b[1;33m(\u001b[0m\u001b[0mcropped_img\u001b[0m\u001b[1;33m,\u001b[0m \u001b[1;33m(\u001b[0m\u001b[1;36m3\u001b[0m\u001b[1;33m,\u001b[0m\u001b[1;36m3\u001b[0m\u001b[1;33m)\u001b[0m\u001b[1;33m,\u001b[0m \u001b[0mstructuring\u001b[0m\u001b[1;33m=\u001b[0m\u001b[0mcv2\u001b[0m\u001b[1;33m.\u001b[0m\u001b[0mMORPH_RECT\u001b[0m\u001b[1;33m)\u001b[0m\u001b[1;33m\u001b[0m\u001b[1;33m\u001b[0m\u001b[0m\n\u001b[0m",
            "\u001b[1;31mTypeError\u001b[0m: skeletonize() got multiple values for argument 'structuring'"
          ]
        }
      ]
    },
    {
      "cell_type": "code",
      "metadata": {
        "id": "EqcL10pg7VCh"
      },
      "source": [
        ""
      ],
      "execution_count": null,
      "outputs": []
    }
  ]
}