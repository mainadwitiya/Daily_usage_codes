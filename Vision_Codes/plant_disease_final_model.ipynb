{
  "nbformat": 4,
  "nbformat_minor": 0,
  "metadata": {
    "colab": {
      "name": "train.ipynb",
      "provenance": [],
      "machine_shape": "hm",
      "authorship_tag": "ABX9TyNcmLy5y9/si+yvlxvOdCo9",
      "include_colab_link": true
    },
    "kernelspec": {
      "name": "python3",
      "display_name": "Python 3"
    },
    "language_info": {
      "name": "python"
    },
    "accelerator": "GPU"
  },
  "cells": [
    {
      "cell_type": "markdown",
      "metadata": {
        "id": "view-in-github",
        "colab_type": "text"
      },
      "source": [
        "<a href=\"https://colab.research.google.com/github/mainadwitiya/Daily_usage_codes/blob/main/plant_disease_final_model.ipynb\" target=\"_parent\"><img src=\"https://colab.research.google.com/assets/colab-badge.svg\" alt=\"Open In Colab\"/></a>"
      ]
    },
    {
      "cell_type": "code",
      "metadata": {
        "colab": {
          "base_uri": "https://localhost:8080/"
        },
        "id": "0N20Fnb0x5ja",
        "outputId": "56343fd7-1ff3-4d5d-89fc-431b5acbecec"
      },
      "source": [
        "!nvidia-smi"
      ],
      "execution_count": 2,
      "outputs": [
        {
          "output_type": "stream",
          "text": [
            "Mon May  3 05:51:16 2021       \n",
            "+-----------------------------------------------------------------------------+\n",
            "| NVIDIA-SMI 465.19.01    Driver Version: 460.32.03    CUDA Version: 11.2     |\n",
            "|-------------------------------+----------------------+----------------------+\n",
            "| GPU  Name        Persistence-M| Bus-Id        Disp.A | Volatile Uncorr. ECC |\n",
            "| Fan  Temp  Perf  Pwr:Usage/Cap|         Memory-Usage | GPU-Util  Compute M. |\n",
            "|                               |                      |               MIG M. |\n",
            "|===============================+======================+======================|\n",
            "|   0  Tesla P100-PCIE...  Off  | 00000000:00:04.0 Off |                    0 |\n",
            "| N/A   39C    P0    26W / 250W |      0MiB / 16280MiB |      0%      Default |\n",
            "|                               |                      |                  N/A |\n",
            "+-------------------------------+----------------------+----------------------+\n",
            "                                                                               \n",
            "+-----------------------------------------------------------------------------+\n",
            "| Processes:                                                                  |\n",
            "|  GPU   GI   CI        PID   Type   Process name                  GPU Memory |\n",
            "|        ID   ID                                                   Usage      |\n",
            "|=============================================================================|\n",
            "|  No running processes found                                                 |\n",
            "+-----------------------------------------------------------------------------+\n"
          ],
          "name": "stdout"
        }
      ]
    },
    {
      "cell_type": "code",
      "metadata": {
        "colab": {
          "base_uri": "https://localhost:8080/"
        },
        "id": "fH9ew2Y3stJ-",
        "outputId": "0652a5c9-69ca-4bf6-e504-1a20c2fe5042"
      },
      "source": [
        "from google.colab import drive\n",
        "\n",
        "drive.mount('/content/gdrive')"
      ],
      "execution_count": 3,
      "outputs": [
        {
          "output_type": "stream",
          "text": [
            "Mounted at /content/gdrive\n"
          ],
          "name": "stdout"
        }
      ]
    },
    {
      "cell_type": "code",
      "metadata": {
        "id": "LmFDmUnetFbc"
      },
      "source": [
        "!unzip /content/gdrive/MyDrive/Final_dataset.zip"
      ],
      "execution_count": null,
      "outputs": []
    },
    {
      "cell_type": "code",
      "metadata": {
        "id": "7RaUfNWa7tf-"
      },
      "source": [
        "import math, json, os, sys\n",
        "\n",
        "import keras\n",
        "from keras.callbacks import EarlyStopping, ModelCheckpoint\n",
        "from keras.layers import Dense\n",
        "from keras.models import Model\n",
        "from keras.optimizers import Adam\n",
        "from keras.preprocessing import image\n",
        "import time\n",
        "import os\n",
        "import matplotlib.pyplot as plt\n",
        "import numpy as np\n",
        "import pandas as pd\n",
        "import PIL\n",
        "import tensorflow as tf\n",
        "from keras.callbacks import EarlyStopping, ReduceLROnPlateau, TensorBoard, ModelCheckpoint\n",
        "from keras.layers import (Activation, BatchNormalization, Conv2D, Dense,\n",
        "                          Dropout, Flatten, MaxPooling2D)\n",
        "from keras.models import Sequential\n",
        "from keras.optimizers import Adam\n",
        "from keras.preprocessing.image import ImageDataGenerator\n",
        "\n"
      ],
      "execution_count": 5,
      "outputs": []
    },
    {
      "cell_type": "code",
      "metadata": {
        "id": "WxBu9sAK73Pd"
      },
      "source": [
        "\n",
        "DATA_DIR = 'Final_dataset'\n",
        "TRAIN_DIR = os.path.join(DATA_DIR, 'train')\n",
        "VALID_DIR = os.path.join(DATA_DIR, 'validate')\n",
        "TEST_DIR = os.path.join(DATA_DIR, 'test')\n",
        "SIZE = (256, 256)\n",
        "BATCH_SIZE = 64\n",
        "HEIGHT = 256\n",
        "WIDTH  = 256\n",
        "DEPTH   = 3\n",
        "batch_size = 32"
      ],
      "execution_count": 21,
      "outputs": []
    },
    {
      "cell_type": "code",
      "metadata": {
        "id": "59bMnjdK797s",
        "colab": {
          "base_uri": "https://localhost:8080/"
        },
        "outputId": "a27e44c0-ad45-4252-ce46-cbd22fa81ff4"
      },
      "source": [
        "# # train_datagen = ImageDataGenerator(\n",
        "# #     rescale = 1./255,\n",
        "# #     validation_split=0\n",
        "# # )\n",
        "\n",
        "# # Training\n",
        "# train_generator = train_datagen.flow_from_directory(\n",
        "#     TRAIN_DIR,\n",
        "#     target_size = (IMG_HEIGHT, IMG_WIDTH),\n",
        "#     color_mode='rgb',\n",
        "#     class_mode='categorical',\n",
        "#     batch_size=batch_size,\n",
        "#     shuffle=True,\n",
        "#     subset='training'\n",
        "# )\n",
        "\n",
        "# # Validation\n",
        "# validation_generator = train_datagen.flow_from_directory(\n",
        "#     VALID_DIR,\n",
        "#     target_size=(IMG_HEIGHT, IMG_WIDTH),\n",
        "#     color_mode='rgb',\n",
        "#     class_mode='categorical',\n",
        "#     batch_size=batch_size,\n",
        "#     subset='validation'\n",
        "# )\n",
        "\n",
        "# # Evaluation\n",
        "# test_datagen = ImageDataGenerator(rescale=1./255)\n",
        "# test_generator = test_datagen.flow_from_directory(\n",
        "#     TEST_DIR,\n",
        "#     target_size=(IMG_HEIGHT, IMG_WIDTH),\n",
        "#     color_mode='rgb',\n",
        "#     class_mode='categorical',\n",
        "#     batch_size=batch_size\n",
        "# )"
      ],
      "execution_count": 17,
      "outputs": [
        {
          "output_type": "stream",
          "text": [
            "Found 30400 images belonging to 38 classes.\n",
            "Found 0 images belonging to 38 classes.\n",
            "Found 1900 images belonging to 38 classes.\n"
          ],
          "name": "stdout"
        }
      ]
    },
    {
      "cell_type": "code",
      "metadata": {
        "colab": {
          "base_uri": "https://localhost:8080/"
        },
        "id": "khflNq4DuSuk",
        "outputId": "d1cbe5a2-2a53-4b5b-f162-31e2f5f00b24"
      },
      "source": [
        " \n",
        "train_datagen = ImageDataGenerator(\n",
        "    rescale = 1./255,\n",
        "    # validation_split=0.15\n",
        ")\n",
        "\n",
        "# Training\n",
        "train_generator = train_datagen.flow_from_directory(\n",
        "    TRAIN_DIR,\n",
        "    target_size = (IMG_HEIGHT, IMG_WIDTH),\n",
        "    color_mode='rgb',\n",
        "    class_mode='categorical',\n",
        "    batch_size=batch_size,\n",
        "    shuffle=True,\n",
        "    subset='training'\n",
        ")\n",
        "\n",
        "# Validation\n",
        "val_datagen = ImageDataGenerator(rescale=1./255)\n",
        "validation_generator = val_datagen.flow_from_directory(\n",
        "    VALID_DIR,\n",
        "    target_size=(IMG_HEIGHT, IMG_WIDTH),\n",
        "    color_mode='rgb',\n",
        "    class_mode='categorical',\n",
        "    batch_size=batch_size,\n",
        "    subset='training'\n",
        ")\n",
        "\n",
        "# Evaluation\n",
        "test_datagen = ImageDataGenerator(rescale=1./255)\n",
        "test_generator = test_datagen.flow_from_directory(\n",
        "    TEST_DIR,\n",
        "    target_size=(IMG_HEIGHT, IMG_WIDTH),\n",
        "    color_mode='rgb',\n",
        "    class_mode='categorical',\n",
        "    batch_size=batch_size\n",
        ")"
      ],
      "execution_count": 15,
      "outputs": [
        {
          "output_type": "stream",
          "text": [
            "Found 30400 images belonging to 38 classes.\n",
            "Found 5700 images belonging to 38 classes.\n",
            "Found 1900 images belonging to 38 classes.\n"
          ],
          "name": "stdout"
        }
      ]
    },
    {
      "cell_type": "code",
      "metadata": {
        "id": "Fg5Ocade3FcQ"
      },
      "source": [
        "import numpy as np\n",
        "import pickle\n",
        "import cv2\n",
        "import os\n",
        "import matplotlib.pyplot as plt\n",
        "from os import listdir\n",
        "from sklearn.preprocessing import LabelBinarizer\n",
        "from keras.models import Sequential\n",
        "from keras.layers.normalization import BatchNormalization\n",
        "from keras.layers.convolutional import Conv2D\n",
        "from keras.layers.convolutional import MaxPooling2D\n",
        "from keras.layers.core import Activation, Flatten, Dropout, Dense\n",
        "from keras import backend as K\n",
        "from keras.preprocessing.image import ImageDataGenerator\n",
        "from keras.optimizers import Adam\n",
        "from keras.preprocessing import image\n",
        "from keras.preprocessing.image import img_to_array\n",
        "from sklearn.preprocessing import MultiLabelBinarizer\n",
        "from sklearn.model_selection import train_test_split"
      ],
      "execution_count": 23,
      "outputs": []
    },
    {
      "cell_type": "code",
      "metadata": {
        "colab": {
          "base_uri": "https://localhost:8080/"
        },
        "id": "D12wLMj-7-65",
        "outputId": "799b9cc0-6e91-40e2-863d-c59f56002046"
      },
      "source": [
        "\n",
        "model = Sequential()\n",
        "inputShape = (HEIGHT, WIDTH, DEPTH)\n",
        "chanDim = -1\n",
        "\n",
        "if K.image_data_format() == \"channels_first\":\n",
        "    inputShape = (DEPTH, HEIGHT, WIDTH)\n",
        "    chanDim = 1\n",
        "\n",
        "model.add(Conv2D(32, (3, 3), padding=\"same\",input_shape=inputShape))\n",
        "model.add(Activation(\"relu\"))\n",
        "model.add(BatchNormalization(axis=chanDim))\n",
        "model.add(MaxPooling2D(pool_size=(3, 3)))\n",
        "model.add(Dropout(0.25))\n",
        "model.add(Conv2D(64, (3, 3), padding=\"same\"))\n",
        "model.add(Activation(\"relu\"))\n",
        "model.add(BatchNormalization(axis=chanDim))\n",
        "model.add(Conv2D(64, (3, 3), padding=\"same\"))\n",
        "model.add(Activation(\"relu\"))\n",
        "model.add(BatchNormalization(axis=chanDim))\n",
        "model.add(MaxPooling2D(pool_size=(2, 2)))\n",
        "model.add(Dropout(0.25))\n",
        "model.add(Conv2D(128, (3, 3), padding=\"same\"))\n",
        "model.add(Activation(\"relu\"))\n",
        "model.add(BatchNormalization(axis=chanDim))\n",
        "model.add(Conv2D(128, (3, 3), padding=\"same\"))\n",
        "model.add(Activation(\"relu\"))\n",
        "model.add(BatchNormalization(axis=chanDim))\n",
        "model.add(MaxPooling2D(pool_size=(2, 2)))\n",
        "model.add(Dropout(0.25))\n",
        "model.add(Flatten())\n",
        "model.add(Dense(1024))\n",
        "model.add(Activation(\"relu\"))\n",
        "model.add(BatchNormalization())\n",
        "model.add(Dropout(0.5))\n",
        "model.add(Dense(38))\n",
        "model.add(Activation(\"softmax\"))\n",
        "\n",
        "model.summary()"
      ],
      "execution_count": 25,
      "outputs": [
        {
          "output_type": "stream",
          "text": [
            "Model: \"sequential_5\"\n",
            "_________________________________________________________________\n",
            "Layer (type)                 Output Shape              Param #   \n",
            "=================================================================\n",
            "conv2d_13 (Conv2D)           (None, 256, 256, 32)      896       \n",
            "_________________________________________________________________\n",
            "activation_14 (Activation)   (None, 256, 256, 32)      0         \n",
            "_________________________________________________________________\n",
            "batch_normalization_14 (Batc (None, 256, 256, 32)      128       \n",
            "_________________________________________________________________\n",
            "max_pooling2d_11 (MaxPooling (None, 85, 85, 32)        0         \n",
            "_________________________________________________________________\n",
            "dropout_8 (Dropout)          (None, 85, 85, 32)        0         \n",
            "_________________________________________________________________\n",
            "conv2d_14 (Conv2D)           (None, 85, 85, 64)        18496     \n",
            "_________________________________________________________________\n",
            "activation_15 (Activation)   (None, 85, 85, 64)        0         \n",
            "_________________________________________________________________\n",
            "batch_normalization_15 (Batc (None, 85, 85, 64)        256       \n",
            "_________________________________________________________________\n",
            "conv2d_15 (Conv2D)           (None, 85, 85, 64)        36928     \n",
            "_________________________________________________________________\n",
            "activation_16 (Activation)   (None, 85, 85, 64)        0         \n",
            "_________________________________________________________________\n",
            "batch_normalization_16 (Batc (None, 85, 85, 64)        256       \n",
            "_________________________________________________________________\n",
            "max_pooling2d_12 (MaxPooling (None, 42, 42, 64)        0         \n",
            "_________________________________________________________________\n",
            "dropout_9 (Dropout)          (None, 42, 42, 64)        0         \n",
            "_________________________________________________________________\n",
            "conv2d_16 (Conv2D)           (None, 42, 42, 128)       73856     \n",
            "_________________________________________________________________\n",
            "activation_17 (Activation)   (None, 42, 42, 128)       0         \n",
            "_________________________________________________________________\n",
            "batch_normalization_17 (Batc (None, 42, 42, 128)       512       \n",
            "_________________________________________________________________\n",
            "conv2d_17 (Conv2D)           (None, 42, 42, 128)       147584    \n",
            "_________________________________________________________________\n",
            "activation_18 (Activation)   (None, 42, 42, 128)       0         \n",
            "_________________________________________________________________\n",
            "batch_normalization_18 (Batc (None, 42, 42, 128)       512       \n",
            "_________________________________________________________________\n",
            "max_pooling2d_13 (MaxPooling (None, 21, 21, 128)       0         \n",
            "_________________________________________________________________\n",
            "dropout_10 (Dropout)         (None, 21, 21, 128)       0         \n",
            "_________________________________________________________________\n",
            "flatten_3 (Flatten)          (None, 56448)             0         \n",
            "_________________________________________________________________\n",
            "dense_7 (Dense)              (None, 1024)              57803776  \n",
            "_________________________________________________________________\n",
            "activation_19 (Activation)   (None, 1024)              0         \n",
            "_________________________________________________________________\n",
            "batch_normalization_19 (Batc (None, 1024)              4096      \n",
            "_________________________________________________________________\n",
            "dropout_11 (Dropout)         (None, 1024)              0         \n",
            "_________________________________________________________________\n",
            "dense_8 (Dense)              (None, 38)                38950     \n",
            "_________________________________________________________________\n",
            "activation_20 (Activation)   (None, 38)                0         \n",
            "=================================================================\n",
            "Total params: 58,126,246\n",
            "Trainable params: 58,123,366\n",
            "Non-trainable params: 2,880\n",
            "_________________________________________________________________\n"
          ],
          "name": "stdout"
        }
      ]
    },
    {
      "cell_type": "code",
      "metadata": {
        "id": "nCnDlKQ-u19B"
      },
      "source": [
        "opt = Adam(learning_rate=0.001)\n",
        "model.compile(optimizer=opt, loss='categorical_crossentropy', metrics=['accuracy'])\n",
        "early_stop = EarlyStopping(monitor='val_loss', patience=5)\n",
        "lr_redux = ReduceLROnPlateau(monitor='val_loss',\n",
        "                            patience = 3, verbose = 1,\n",
        "                            factor = 0.1, min_lr = 0.000001)\n",
        "mcp_save = ModelCheckpoint('.mdl_wts.hdf5', save_best_only=True, monitor='val_loss', mode='min')\n",
        "\n",
        "\n",
        "log_dir = f\"/content/gdrive/MyDrive/custom_plant_model{int(time.time())}\"\n",
        "\n",
        "tensorboard = TensorBoard(log_dir=log_dir)\n",
        "callbacks = [early_stop, lr_redux, tensorboard]"
      ],
      "execution_count": 17,
      "outputs": []
    },
    {
      "cell_type": "code",
      "metadata": {
        "id": "_OiXOazFAvm9"
      },
      "source": [
        "\n",
        "# Fit model\n",
        "history = model.fit(\n",
        "    train_generator,\n",
        "    epochs=50,\n",
        "    validation_data=validation_generator,\n",
        "    callbacks=callbacks\n",
        ")\n",
        "model.save('plant_main.h5')"
      ],
      "execution_count": null,
      "outputs": []
    },
    {
      "cell_type": "code",
      "metadata": {
        "colab": {
          "base_uri": "https://localhost:8080/"
        },
        "id": "DRo-hFRK3PKZ",
        "outputId": "59bb738c-79fd-41bc-dcd5-fe17344fb2b7"
      },
      "source": [
        "EPOCHS = 50\n",
        "\n",
        "LR = 1e-3\n",
        "opt = Adam(lr=LR, decay=LR / EPOCHS)\n",
        "mcp_save = ModelCheckpoint('.mdl_wts.hdf5', save_best_only=True, monitor='val_loss', mode='min')\n",
        "early_stop = EarlyStopping(monitor='val_loss', patience=5)\n",
        "# Compile model\n",
        "model.compile(loss=\"binary_crossentropy\", optimizer=opt, metrics=[\"accuracy\"])\n",
        "callbacks = [early_stop, tensorboard]\n",
        "# Train model\n",
        "print(\"[INFO] Training network...\")\n",
        "history = model.fit(train_generator,\n",
        "                              validation_data=validation_generator,\n",
        "                              epochs=EPOCHS,callbacks=callbacks, \n",
        "                              verbose=1)\n",
        "model.save('plant_main.h5')"
      ],
      "execution_count": 26,
      "outputs": [
        {
          "output_type": "stream",
          "text": [
            "[INFO] Training network...\n",
            "Epoch 1/50\n",
            "950/950 [==============================] - 90s 93ms/step - loss: 0.2580 - accuracy: 0.3049 - val_loss: 0.0604 - val_accuracy: 0.6258\n",
            "Epoch 2/50\n",
            "950/950 [==============================] - 86s 91ms/step - loss: 0.0441 - accuracy: 0.7584 - val_loss: 0.0444 - val_accuracy: 0.7395\n",
            "Epoch 3/50\n",
            "950/950 [==============================] - 85s 89ms/step - loss: 0.0305 - accuracy: 0.8416 - val_loss: 0.0321 - val_accuracy: 0.7937\n",
            "Epoch 4/50\n",
            "950/950 [==============================] - 84s 88ms/step - loss: 0.0216 - accuracy: 0.8913 - val_loss: 0.0288 - val_accuracy: 0.8447\n",
            "Epoch 5/50\n",
            "950/950 [==============================] - 85s 90ms/step - loss: 0.0165 - accuracy: 0.9245 - val_loss: 0.0270 - val_accuracy: 0.8500\n",
            "Epoch 6/50\n",
            "950/950 [==============================] - 86s 90ms/step - loss: 0.0139 - accuracy: 0.9400 - val_loss: 0.0273 - val_accuracy: 0.8365\n",
            "Epoch 7/50\n",
            "950/950 [==============================] - 86s 90ms/step - loss: 0.0100 - accuracy: 0.9597 - val_loss: 0.0161 - val_accuracy: 0.9191\n",
            "Epoch 8/50\n",
            "950/950 [==============================] - 86s 90ms/step - loss: 0.0116 - accuracy: 0.9536 - val_loss: 0.0156 - val_accuracy: 0.9291\n",
            "Epoch 9/50\n",
            "950/950 [==============================] - 85s 89ms/step - loss: 0.0077 - accuracy: 0.9728 - val_loss: 0.0124 - val_accuracy: 0.9361\n",
            "Epoch 10/50\n",
            "950/950 [==============================] - 85s 89ms/step - loss: 0.0049 - accuracy: 0.9858 - val_loss: 0.0161 - val_accuracy: 0.9235\n",
            "Epoch 11/50\n",
            "950/950 [==============================] - 84s 89ms/step - loss: 0.0047 - accuracy: 0.9859 - val_loss: 0.0171 - val_accuracy: 0.9167\n",
            "Epoch 12/50\n",
            "950/950 [==============================] - 85s 89ms/step - loss: 0.0042 - accuracy: 0.9887 - val_loss: 0.0101 - val_accuracy: 0.9528\n",
            "Epoch 13/50\n",
            "950/950 [==============================] - 84s 89ms/step - loss: 0.0033 - accuracy: 0.9911 - val_loss: 0.0237 - val_accuracy: 0.8968\n",
            "Epoch 14/50\n",
            "950/950 [==============================] - 84s 89ms/step - loss: 0.0030 - accuracy: 0.9930 - val_loss: 0.0166 - val_accuracy: 0.9211\n",
            "Epoch 15/50\n",
            "950/950 [==============================] - 84s 89ms/step - loss: 0.0028 - accuracy: 0.9936 - val_loss: 0.0518 - val_accuracy: 0.7647\n",
            "Epoch 16/50\n",
            "950/950 [==============================] - 85s 89ms/step - loss: 0.0027 - accuracy: 0.9944 - val_loss: 0.0097 - val_accuracy: 0.9582\n",
            "Epoch 17/50\n",
            "950/950 [==============================] - 85s 89ms/step - loss: 0.0024 - accuracy: 0.9944 - val_loss: 0.0201 - val_accuracy: 0.9147\n",
            "Epoch 18/50\n",
            "950/950 [==============================] - 85s 89ms/step - loss: 0.0021 - accuracy: 0.9958 - val_loss: 0.0180 - val_accuracy: 0.9258\n",
            "Epoch 19/50\n",
            "950/950 [==============================] - 85s 89ms/step - loss: 0.0020 - accuracy: 0.9963 - val_loss: 0.0114 - val_accuracy: 0.9549\n",
            "Epoch 20/50\n",
            "950/950 [==============================] - 85s 89ms/step - loss: 0.0019 - accuracy: 0.9967 - val_loss: 0.0094 - val_accuracy: 0.9628\n",
            "Epoch 21/50\n",
            "950/950 [==============================] - 84s 89ms/step - loss: 0.0012 - accuracy: 0.9982 - val_loss: 0.0165 - val_accuracy: 0.9358\n",
            "Epoch 22/50\n",
            "950/950 [==============================] - 84s 89ms/step - loss: 0.0013 - accuracy: 0.9976 - val_loss: 0.0200 - val_accuracy: 0.9170\n",
            "Epoch 23/50\n",
            "950/950 [==============================] - 84s 88ms/step - loss: 0.0017 - accuracy: 0.9973 - val_loss: 0.0102 - val_accuracy: 0.9667\n",
            "Epoch 24/50\n",
            "950/950 [==============================] - 85s 89ms/step - loss: 0.0014 - accuracy: 0.9975 - val_loss: 0.0377 - val_accuracy: 0.8523\n",
            "Epoch 25/50\n",
            "950/950 [==============================] - 84s 89ms/step - loss: 0.0021 - accuracy: 0.9967 - val_loss: 0.0136 - val_accuracy: 0.9475\n"
          ],
          "name": "stdout"
        }
      ]
    },
    {
      "cell_type": "code",
      "metadata": {
        "id": "37o8h2hQBM97"
      },
      "source": [
        ""
      ],
      "execution_count": null,
      "outputs": []
    },
    {
      "cell_type": "code",
      "metadata": {
        "colab": {
          "base_uri": "https://localhost:8080/"
        },
        "id": "nTOLBmgwAFV8",
        "outputId": "0a8725c5-6474-4100-fd48-d37e5fbf60e0"
      },
      "source": [
        "model.history.history"
      ],
      "execution_count": 27,
      "outputs": [
        {
          "output_type": "execute_result",
          "data": {
            "text/plain": [
              "{'accuracy': [0.4850328862667084,\n",
              "  0.7701644897460938,\n",
              "  0.8517434000968933,\n",
              "  0.8929605484008789,\n",
              "  0.9149671196937561,\n",
              "  0.941315770149231,\n",
              "  0.9589802622795105,\n",
              "  0.9497697353363037,\n",
              "  0.9741118550300598,\n",
              "  0.9833223819732666,\n",
              "  0.9833552837371826,\n",
              "  0.9879934191703796,\n",
              "  0.9909210801124573,\n",
              "  0.9919407963752747,\n",
              "  0.9934210777282715,\n",
              "  0.9945394992828369,\n",
              "  0.9917762875556946,\n",
              "  0.9957894682884216,\n",
              "  0.9970065951347351,\n",
              "  0.9970394968986511,\n",
              "  0.9980592131614685,\n",
              "  0.9963157773017883,\n",
              "  0.9976644515991211,\n",
              "  0.996019721031189,\n",
              "  0.9976973533630371],\n",
              " 'loss': [0.12309224158525467,\n",
              "  0.04149888455867767,\n",
              "  0.028696205466985703,\n",
              "  0.02122095786035061,\n",
              "  0.017791524529457092,\n",
              "  0.013502254150807858,\n",
              "  0.010141939856112003,\n",
              "  0.012150313705205917,\n",
              "  0.0072039393708109856,\n",
              "  0.005368698853999376,\n",
              "  0.005303340032696724,\n",
              "  0.0042796144261956215,\n",
              "  0.0034496765583753586,\n",
              "  0.003234391799196601,\n",
              "  0.002852365607395768,\n",
              "  0.0025071746204048395,\n",
              "  0.0032522003166377544,\n",
              "  0.002062825486063957,\n",
              "  0.0018266052938997746,\n",
              "  0.0017567010363563895,\n",
              "  0.0013386077480390668,\n",
              "  0.0017657192656770349,\n",
              "  0.0014573404332622886,\n",
              "  0.0019880409818142653,\n",
              "  0.0016721754800528288],\n",
              " 'val_accuracy': [0.62578946352005,\n",
              "  0.7394737005233765,\n",
              "  0.793684184551239,\n",
              "  0.8447368144989014,\n",
              "  0.8500000238418579,\n",
              "  0.8364912271499634,\n",
              "  0.9191228151321411,\n",
              "  0.929122805595398,\n",
              "  0.9361403584480286,\n",
              "  0.9235087633132935,\n",
              "  0.9166666865348816,\n",
              "  0.9528070092201233,\n",
              "  0.8968421220779419,\n",
              "  0.9210526347160339,\n",
              "  0.7647368311882019,\n",
              "  0.9582456350326538,\n",
              "  0.9147368669509888,\n",
              "  0.925789475440979,\n",
              "  0.9549123048782349,\n",
              "  0.9628069996833801,\n",
              "  0.9357894659042358,\n",
              "  0.9170175194740295,\n",
              "  0.9666666388511658,\n",
              "  0.8522806763648987,\n",
              "  0.9475438594818115],\n",
              " 'val_loss': [0.06043326482176781,\n",
              "  0.0443619079887867,\n",
              "  0.032104525715112686,\n",
              "  0.02878103218972683,\n",
              "  0.027003781870007515,\n",
              "  0.02725791186094284,\n",
              "  0.016061609610915184,\n",
              "  0.015604534186422825,\n",
              "  0.012449206784367561,\n",
              "  0.01606954075396061,\n",
              "  0.01709510199725628,\n",
              "  0.01014536153525114,\n",
              "  0.023739786818623543,\n",
              "  0.016557535156607628,\n",
              "  0.05181897059082985,\n",
              "  0.00965812150388956,\n",
              "  0.020074820145964622,\n",
              "  0.018047897145152092,\n",
              "  0.01137455739080906,\n",
              "  0.009378506802022457,\n",
              "  0.01646028831601143,\n",
              "  0.01999901980161667,\n",
              "  0.010220390744507313,\n",
              "  0.03769000992178917,\n",
              "  0.013550910167396069]}"
            ]
          },
          "metadata": {
            "tags": []
          },
          "execution_count": 27
        }
      ]
    },
    {
      "cell_type": "code",
      "metadata": {
        "colab": {
          "base_uri": "https://localhost:8080/",
          "height": 545
        },
        "id": "JkZhjnsz8It0",
        "outputId": "36221874-c472-4b21-9a9b-0f601a72da35"
      },
      "source": [
        "import matplotlib.pyplot as plt\n",
        "acc = model.history.history['accuracy']\n",
        "val_acc = model.history.history['val_accuracy']\n",
        "loss = model.history.history['loss']\n",
        "val_loss = model.history.history['val_loss']\n",
        "epochs = range(1, len(acc) + 1)\n",
        "#Train and validation accuracy\n",
        "plt.plot(epochs, acc, 'b', label='Training accurarcy')\n",
        "plt.plot(epochs, val_acc, 'r', label='Validation accurarcy')\n",
        "plt.title('Training and Validation accurarcy')\n",
        "plt.legend()\n",
        "\n",
        "plt.figure()\n",
        "#Train and validation loss\n",
        "plt.plot(epochs, loss, 'b', label='Training loss')\n",
        "plt.plot(epochs, val_loss, 'r', label='Validation loss')\n",
        "plt.title('Training and Validation loss')\n",
        "plt.legend()\n",
        "plt.show()"
      ],
      "execution_count": 29,
      "outputs": [
        {
          "output_type": "display_data",
          "data": {
            "image/png": "[encoded data removed]",
            "text/plain": [
              "<Figure size 432x288 with 1 Axes>"
            ]
          },
          "metadata": {
            "tags": [],
            "needs_background": "light"
          }
        },
        {
          "output_type": "display_data",
          "data": {
            "image/png": "[encoded data removed]",
            "text/plain": [
              "<Figure size 432x288 with 1 Axes>"
            ]
          },
          "metadata": {
            "tags": [],
            "needs_background": "light"
          }
        }
      ]
    },
    {
      "cell_type": "code",
      "metadata": {
        "id": "GiyDNZgq_bGQ"
      },
      "source": [
        ""
      ],
      "execution_count": null,
      "outputs": []
    }
  ]
}