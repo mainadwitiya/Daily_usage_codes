{
 "cells": [
  {
   "cell_type": "code",
   "execution_count": 1,
   "id": "59eb9b27",
   "metadata": {
    "_kg_hide-output": true,
    "execution": {
     "iopub.execute_input": "2021-12-06T11:21:28.503155Z",
     "iopub.status.busy": "2021-12-06T11:21:28.502160Z",
     "iopub.status.idle": "2021-12-06T11:21:41.650478Z",
     "shell.execute_reply": "2021-12-06T11:21:41.649585Z",
     "shell.execute_reply.started": "2021-12-06T11:13:26.745202Z"
    },
    "papermill": {
     "duration": 13.192464,
     "end_time": "2021-12-06T11:21:41.650661",
     "exception": false,
     "start_time": "2021-12-06T11:21:28.458197",
     "status": "completed"
    },
    "tags": []
   },
   "outputs": [
    {
     "name": "stdout",
     "output_type": "stream",
     "text": [
      "\u001b[33mWARNING: Running pip as the 'root' user can result in broken permissions and conflicting behaviour with the system package manager. It is recommended to use a virtual environment instead: https://pip.pypa.io/warnings/venv\u001b[0m\r\n"
     ]
    }
   ],
   "source": [
    "!pip install -U -q wandb"
   ]
  },
  {
   "cell_type": "code",
   "execution_count": 2,
   "id": "dff54123",
   "metadata": {
    "_cell_guid": "b1076dfc-b9ad-4769-8c92-a6c4dae69d19",
    "_uuid": "8f2839f25d086af736a60e9eeb907d3b93b6e0e5",
    "execution": {
     "iopub.execute_input": "2021-12-06T11:21:41.721281Z",
     "iopub.status.busy": "2021-12-06T11:21:41.715284Z",
     "iopub.status.idle": "2021-12-06T11:21:48.668080Z",
     "shell.execute_reply": "2021-12-06T11:21:48.667389Z",
     "shell.execute_reply.started": "2021-12-06T10:43:29.053182Z"
    },
    "papermill": {
     "duration": 6.987348,
     "end_time": "2021-12-06T11:21:48.668236",
     "exception": false,
     "start_time": "2021-12-06T11:21:41.680888",
     "status": "completed"
    },
    "tags": []
   },
   "outputs": [],
   "source": [
    "import os\n",
    "os.environ['TF_CPP_MIN_LOG_LEVEL'] = '3'\n",
    "\n",
    "import numpy as np\n",
    "import pandas as pd\n",
    "\n",
    "%matplotlib inline\n",
    "import matplotlib.pyplot as plt\n",
    "import seaborn as sns\n",
    "sns.set_style('darkgrid')\n",
    "\n",
    "import tensorflow as tf\n",
    "from tensorflow.keras import layers\n",
    "\n",
    "from sklearn.preprocessing import MinMaxScaler, StandardScaler, RobustScaler\n",
    "from sklearn.feature_selection import mutual_info_regression\n",
    "\n",
    "import wandb\n",
    "from wandb.keras import WandbCallback"
   ]
  },
  {
   "cell_type": "markdown",
   "id": "927d1717",
   "metadata": {
    "papermill": {
     "duration": 0.028758,
     "end_time": "2021-12-06T11:21:48.727847",
     "exception": false,
     "start_time": "2021-12-06T11:21:48.699089",
     "status": "completed"
    },
    "tags": []
   },
   "source": [
    "# Config TPU"
   ]
  },
  {
   "cell_type": "code",
   "execution_count": 3,
   "id": "696cabc1",
   "metadata": {
    "execution": {
     "iopub.execute_input": "2021-12-06T11:21:48.802132Z",
     "iopub.status.busy": "2021-12-06T11:21:48.801387Z",
     "iopub.status.idle": "2021-12-06T11:21:55.224358Z",
     "shell.execute_reply": "2021-12-06T11:21:55.223705Z",
     "shell.execute_reply.started": "2021-12-06T10:43:43.840048Z"
    },
    "papermill": {
     "duration": 6.468113,
     "end_time": "2021-12-06T11:21:55.224522",
     "exception": false,
     "start_time": "2021-12-06T11:21:48.756409",
     "status": "completed"
    },
    "tags": []
   },
   "outputs": [
    {
     "name": "stdout",
     "output_type": "stream",
     "text": [
      "Device: grpc://10.0.0.2:8470\n",
      "Number of replicas: 8\n"
     ]
    }
   ],
   "source": [
    "try:\n",
    "    tpu = tf.distribute.cluster_resolver.TPUClusterResolver()\n",
    "    print('Device:', tpu.master())\n",
    "    tf.config.experimental_connect_to_cluster(tpu)\n",
    "    tf.tpu.experimental.initialize_tpu_system(tpu)\n",
    "    strategy = tf.distribute.experimental.TPUStrategy(tpu)\n",
    "except:\n",
    "    strategy = tf.distribute.get_strategy()\n",
    "print('Number of replicas:', strategy.num_replicas_in_sync)"
   ]
  },
  {
   "cell_type": "markdown",
   "id": "098bb039",
   "metadata": {
    "papermill": {
     "duration": 0.03024,
     "end_time": "2021-12-06T11:21:55.285359",
     "exception": false,
     "start_time": "2021-12-06T11:21:55.255119",
     "status": "completed"
    },
    "tags": []
   },
   "source": [
    "# WandB Login\n",
    "\n",
    "Thanks to [Tensor girl](https://www.kaggle.com/usharengaraju) for her useful notebooks with W&B"
   ]
  },
  {
   "cell_type": "markdown",
   "id": "bbb6955b",
   "metadata": {
    "papermill": {
     "duration": 0.029515,
     "end_time": "2021-12-06T11:21:55.344722",
     "exception": false,
     "start_time": "2021-12-06T11:21:55.315207",
     "status": "completed"
    },
    "tags": []
   },
   "source": [
    "![wandb](https://i.imgur.com/gb6B4ig.png)"
   ]
  },
  {
   "cell_type": "code",
   "execution_count": 4,
   "id": "3266d431",
   "metadata": {
    "_kg_hide-output": true,
    "execution": {
     "iopub.execute_input": "2021-12-06T11:21:55.418718Z",
     "iopub.status.busy": "2021-12-06T11:21:55.411325Z",
     "iopub.status.idle": "2021-12-06T11:21:56.288546Z",
     "shell.execute_reply": "2021-12-06T11:21:56.289151Z",
     "shell.execute_reply.started": "2021-12-06T10:43:59.250639Z"
    },
    "papermill": {
     "duration": 0.915022,
     "end_time": "2021-12-06T11:21:56.289363",
     "exception": false,
     "start_time": "2021-12-06T11:21:55.374341",
     "status": "completed"
    },
    "tags": []
   },
   "outputs": [
    {
     "name": "stderr",
     "output_type": "stream",
     "text": [
      "\u001b[34m\u001b[1mwandb\u001b[0m: W&B API key is configured (use `wandb login --relogin` to force relogin)\n",
      "\u001b[34m\u001b[1mwandb\u001b[0m: \u001b[33mWARNING\u001b[0m If you're specifying your api key in code, ensure this code is not shared publically.\n",
      "\u001b[34m\u001b[1mwandb\u001b[0m: \u001b[33mWARNING\u001b[0m Consider setting the WANDB_API_KEY environment variable, or running `wandb login` from the command line.\n",
      "\u001b[34m\u001b[1mwandb\u001b[0m: Appending key for api.wandb.ai to your netrc file: /root/.netrc\n"
     ]
    }
   ],
   "source": [
    "try:\n",
    "    from kaggle_secrets import UserSecretsClient\n",
    "    user_secrets = UserSecretsClient()\n",
    "    secret_value_0 = user_secrets.get_secret(\"wandb_api_key\")\n",
    "    wandb.login(key=secret_value_0)\n",
    "    anony=None\n",
    "except:\n",
    "    anony = \"must\"\n",
    "    print('If you want to use your W&B account, go to Add-ons -> Secrets and provide your W&B access token. Use the Label name as wandb_api. \\nGet your W&B access token from here: https://wandb.ai/authorize')"
   ]
  },
  {
   "cell_type": "markdown",
   "id": "b3641f9a",
   "metadata": {
    "papermill": {
     "duration": 0.031036,
     "end_time": "2021-12-06T11:21:56.351593",
     "exception": false,
     "start_time": "2021-12-06T11:21:56.320557",
     "status": "completed"
    },
    "tags": []
   },
   "source": [
    "# Load Data"
   ]
  },
  {
   "cell_type": "code",
   "execution_count": 5,
   "id": "550b15db",
   "metadata": {
    "execution": {
     "iopub.execute_input": "2021-12-06T11:21:56.418902Z",
     "iopub.status.busy": "2021-12-06T11:21:56.417891Z",
     "iopub.status.idle": "2021-12-06T11:22:25.296996Z",
     "shell.execute_reply": "2021-12-06T11:22:25.297644Z",
     "shell.execute_reply.started": "2021-12-06T10:44:13.018909Z"
    },
    "papermill": {
     "duration": 28.915307,
     "end_time": "2021-12-06T11:22:25.297931",
     "exception": false,
     "start_time": "2021-12-06T11:21:56.382624",
     "status": "completed"
    },
    "tags": []
   },
   "outputs": [
    {
     "name": "stdout",
     "output_type": "stream",
     "text": [
      "CPU times: user 17.8 s, sys: 6.22 s, total: 24 s\n",
      "Wall time: 28.9 s\n"
     ]
    }
   ],
   "source": [
    "%%time\n",
    "train = pd.read_csv('../input/tabular-playground-series-dec-2021/train.csv').set_index(\"Id\")\n",
    "test = pd.read_csv('../input/tabular-playground-series-dec-2021/test.csv').set_index(\"Id\")\n",
    "sample_submission = pd.read_csv(\"../input/tabular-playground-series-dec-2021/sample_submission.csv\")\n",
    "\n",
    "feature_cols = test.columns.tolist()\n",
    "cnt_cols = [col for col in feature_cols if (not col.startswith(\"Soil_Type\")) and (not col.startswith(\"Wilderness_Area\"))]\n",
    "bin_cols = [col for col in feature_cols if col not in cnt_cols]"
   ]
  },
  {
   "cell_type": "code",
   "execution_count": 6,
   "id": "e1b19bab",
   "metadata": {
    "execution": {
     "iopub.execute_input": "2021-12-06T11:22:25.370107Z",
     "iopub.status.busy": "2021-12-06T11:22:25.369411Z",
     "iopub.status.idle": "2021-12-06T11:22:25.972913Z",
     "shell.execute_reply": "2021-12-06T11:22:25.973410Z",
     "shell.execute_reply.started": "2021-12-06T10:44:37.769158Z"
    },
    "papermill": {
     "duration": 0.643761,
     "end_time": "2021-12-06T11:22:25.973615",
     "exception": false,
     "start_time": "2021-12-06T11:22:25.329854",
     "status": "completed"
    },
    "tags": []
   },
   "outputs": [
    {
     "data": {
      "image/png": "[encoded data removed]",
      "text/plain": [
       "<Figure size 720x360 with 1 Axes>"
      ]
     },
     "metadata": {},
     "output_type": "display_data"
    }
   ],
   "source": [
    "plt.figure(figsize=(10,5))\n",
    "axs = sns.countplot(x=\"Cover_Type\", data=train)\n",
    "plt.xlabel(\"Cover Type\")\n",
    "axs.bar_label(axs.containers[0])\n",
    "plt.show()"
   ]
  },
  {
   "cell_type": "code",
   "execution_count": 7,
   "id": "983d0749",
   "metadata": {
    "execution": {
     "iopub.execute_input": "2021-12-06T11:22:26.049136Z",
     "iopub.status.busy": "2021-12-06T11:22:26.048358Z",
     "iopub.status.idle": "2021-12-06T11:22:29.551649Z",
     "shell.execute_reply": "2021-12-06T11:22:29.552155Z",
     "shell.execute_reply.started": "2021-12-06T10:45:25.850439Z"
    },
    "papermill": {
     "duration": 3.546508,
     "end_time": "2021-12-06T11:22:29.552384",
     "exception": false,
     "start_time": "2021-12-06T11:22:26.005876",
     "status": "completed"
    },
    "tags": []
   },
   "outputs": [],
   "source": [
    "train = train.append([train[train[\"Cover_Type\"]==5]]*100, ignore_index=True) #Resampling Class 5\n",
    "train[\"Cover_Type\"] = train[\"Cover_Type\"] - 1"
   ]
  },
  {
   "cell_type": "markdown",
   "id": "61fd6f7c",
   "metadata": {
    "papermill": {
     "duration": 0.032145,
     "end_time": "2021-12-06T11:22:29.616907",
     "exception": false,
     "start_time": "2021-12-06T11:22:29.584762",
     "status": "completed"
    },
    "tags": []
   },
   "source": [
    "# Reduce Memory Usage"
   ]
  },
  {
   "cell_type": "code",
   "execution_count": 8,
   "id": "10be7145",
   "metadata": {
    "execution": {
     "iopub.execute_input": "2021-12-06T11:22:29.686029Z",
     "iopub.status.busy": "2021-12-06T11:22:29.685335Z",
     "iopub.status.idle": "2021-12-06T11:22:49.109743Z",
     "shell.execute_reply": "2021-12-06T11:22:49.109093Z",
     "shell.execute_reply.started": "2021-12-06T10:45:29.281410Z"
    },
    "papermill": {
     "duration": 19.461011,
     "end_time": "2021-12-06T11:22:49.109976",
     "exception": false,
     "start_time": "2021-12-06T11:22:29.648965",
     "status": "completed"
    },
    "tags": []
   },
   "outputs": [],
   "source": [
    "for col in feature_cols:\n",
    "    if col in cnt_cols:\n",
    "        train[col] = train[col].astype(\"float32\")\n",
    "        test[col] = test[col].astype(\"float32\")\n",
    "    else:\n",
    "        train[col] = train[col].astype(\"bool\")\n",
    "        test[col] = test[col].astype(\"bool\")"
   ]
  },
  {
   "cell_type": "code",
   "execution_count": 9,
   "id": "94eb8c79",
   "metadata": {
    "execution": {
     "iopub.execute_input": "2021-12-06T11:22:49.191026Z",
     "iopub.status.busy": "2021-12-06T11:22:49.190029Z",
     "iopub.status.idle": "2021-12-06T11:22:51.008145Z",
     "shell.execute_reply": "2021-12-06T11:22:51.008674Z",
     "shell.execute_reply.started": "2021-12-06T10:45:43.252939Z"
    },
    "papermill": {
     "duration": 1.862707,
     "end_time": "2021-12-06T11:22:51.008914",
     "exception": false,
     "start_time": "2021-12-06T11:22:49.146207",
     "status": "completed"
    },
    "tags": []
   },
   "outputs": [
    {
     "data": {
      "text/html": [
       "<div>\n",
       "<style scoped>\n",
       "    .dataframe tbody tr th:only-of-type {\n",
       "        vertical-align: middle;\n",
       "    }\n",
       "\n",
       "    .dataframe tbody tr th {\n",
       "        vertical-align: top;\n",
       "    }\n",
       "\n",
       "    .dataframe thead th {\n",
       "        text-align: right;\n",
       "    }\n",
       "</style>\n",
       "<table border=\"1\" class=\"dataframe\">\n",
       "  <thead>\n",
       "    <tr style=\"text-align: right;\">\n",
       "      <th></th>\n",
       "      <th>count</th>\n",
       "      <th>mean</th>\n",
       "      <th>std</th>\n",
       "      <th>min</th>\n",
       "      <th>25%</th>\n",
       "      <th>50%</th>\n",
       "      <th>75%</th>\n",
       "      <th>max</th>\n",
       "    </tr>\n",
       "  </thead>\n",
       "  <tbody>\n",
       "    <tr>\n",
       "      <th>Elevation</th>\n",
       "      <td>4000100.0</td>\n",
       "      <td>2975.279541</td>\n",
       "      <td>288.764038</td>\n",
       "      <td>1773.0</td>\n",
       "      <td>2760.0</td>\n",
       "      <td>2966.0</td>\n",
       "      <td>3217.0</td>\n",
       "      <td>4383.0</td>\n",
       "    </tr>\n",
       "    <tr>\n",
       "      <th>Aspect</th>\n",
       "      <td>4000100.0</td>\n",
       "      <td>151.515747</td>\n",
       "      <td>109.801651</td>\n",
       "      <td>-33.0</td>\n",
       "      <td>60.0</td>\n",
       "      <td>123.0</td>\n",
       "      <td>247.0</td>\n",
       "      <td>407.0</td>\n",
       "    </tr>\n",
       "    <tr>\n",
       "      <th>Slope</th>\n",
       "      <td>4000100.0</td>\n",
       "      <td>15.096612</td>\n",
       "      <td>8.532907</td>\n",
       "      <td>-3.0</td>\n",
       "      <td>9.0</td>\n",
       "      <td>14.0</td>\n",
       "      <td>20.0</td>\n",
       "      <td>64.0</td>\n",
       "    </tr>\n",
       "    <tr>\n",
       "      <th>Horizontal_Distance_To_Hydrology</th>\n",
       "      <td>4000100.0</td>\n",
       "      <td>271.723236</td>\n",
       "      <td>226.040848</td>\n",
       "      <td>-92.0</td>\n",
       "      <td>110.0</td>\n",
       "      <td>213.0</td>\n",
       "      <td>361.0</td>\n",
       "      <td>1602.0</td>\n",
       "    </tr>\n",
       "    <tr>\n",
       "      <th>Vertical_Distance_To_Hydrology</th>\n",
       "      <td>4000100.0</td>\n",
       "      <td>51.632236</td>\n",
       "      <td>68.105324</td>\n",
       "      <td>-317.0</td>\n",
       "      <td>4.0</td>\n",
       "      <td>31.0</td>\n",
       "      <td>78.0</td>\n",
       "      <td>647.0</td>\n",
       "    </tr>\n",
       "    <tr>\n",
       "      <th>Horizontal_Distance_To_Roadways</th>\n",
       "      <td>4000100.0</td>\n",
       "      <td>1766.331787</td>\n",
       "      <td>1313.260254</td>\n",
       "      <td>-287.0</td>\n",
       "      <td>822.0</td>\n",
       "      <td>1436.0</td>\n",
       "      <td>2365.0</td>\n",
       "      <td>7666.0</td>\n",
       "    </tr>\n",
       "    <tr>\n",
       "      <th>Hillshade_9am</th>\n",
       "      <td>4000100.0</td>\n",
       "      <td>212.571960</td>\n",
       "      <td>30.710855</td>\n",
       "      <td>-4.0</td>\n",
       "      <td>198.0</td>\n",
       "      <td>218.0</td>\n",
       "      <td>233.0</td>\n",
       "      <td>301.0</td>\n",
       "    </tr>\n",
       "    <tr>\n",
       "      <th>Hillshade_Noon</th>\n",
       "      <td>4000100.0</td>\n",
       "      <td>221.899216</td>\n",
       "      <td>22.230209</td>\n",
       "      <td>49.0</td>\n",
       "      <td>210.0</td>\n",
       "      <td>224.0</td>\n",
       "      <td>237.0</td>\n",
       "      <td>279.0</td>\n",
       "    </tr>\n",
       "    <tr>\n",
       "      <th>Hillshade_3pm</th>\n",
       "      <td>4000100.0</td>\n",
       "      <td>140.798035</td>\n",
       "      <td>43.630402</td>\n",
       "      <td>-53.0</td>\n",
       "      <td>115.0</td>\n",
       "      <td>142.0</td>\n",
       "      <td>169.0</td>\n",
       "      <td>272.0</td>\n",
       "    </tr>\n",
       "    <tr>\n",
       "      <th>Horizontal_Distance_To_Fire_Points</th>\n",
       "      <td>4000100.0</td>\n",
       "      <td>1581.433105</td>\n",
       "      <td>1126.011719</td>\n",
       "      <td>-277.0</td>\n",
       "      <td>781.0</td>\n",
       "      <td>1361.0</td>\n",
       "      <td>2084.0</td>\n",
       "      <td>8075.0</td>\n",
       "    </tr>\n",
       "    <tr>\n",
       "      <th>Cover_Type</th>\n",
       "      <td>4000100.0</td>\n",
       "      <td>0.771416</td>\n",
       "      <td>0.893941</td>\n",
       "      <td>0.0</td>\n",
       "      <td>0.0</td>\n",
       "      <td>1.0</td>\n",
       "      <td>1.0</td>\n",
       "      <td>6.0</td>\n",
       "    </tr>\n",
       "  </tbody>\n",
       "</table>\n",
       "</div>"
      ],
      "text/plain": [
       "                                        count         mean          std  \\\n",
       "Elevation                           4000100.0  2975.279541   288.764038   \n",
       "Aspect                              4000100.0   151.515747   109.801651   \n",
       "Slope                               4000100.0    15.096612     8.532907   \n",
       "Horizontal_Distance_To_Hydrology    4000100.0   271.723236   226.040848   \n",
       "Vertical_Distance_To_Hydrology      4000100.0    51.632236    68.105324   \n",
       "Horizontal_Distance_To_Roadways     4000100.0  1766.331787  1313.260254   \n",
       "Hillshade_9am                       4000100.0   212.571960    30.710855   \n",
       "Hillshade_Noon                      4000100.0   221.899216    22.230209   \n",
       "Hillshade_3pm                       4000100.0   140.798035    43.630402   \n",
       "Horizontal_Distance_To_Fire_Points  4000100.0  1581.433105  1126.011719   \n",
       "Cover_Type                          4000100.0     0.771416     0.893941   \n",
       "\n",
       "                                       min     25%     50%     75%     max  \n",
       "Elevation                           1773.0  2760.0  2966.0  3217.0  4383.0  \n",
       "Aspect                               -33.0    60.0   123.0   247.0   407.0  \n",
       "Slope                                 -3.0     9.0    14.0    20.0    64.0  \n",
       "Horizontal_Distance_To_Hydrology     -92.0   110.0   213.0   361.0  1602.0  \n",
       "Vertical_Distance_To_Hydrology      -317.0     4.0    31.0    78.0   647.0  \n",
       "Horizontal_Distance_To_Roadways     -287.0   822.0  1436.0  2365.0  7666.0  \n",
       "Hillshade_9am                         -4.0   198.0   218.0   233.0   301.0  \n",
       "Hillshade_Noon                        49.0   210.0   224.0   237.0   279.0  \n",
       "Hillshade_3pm                        -53.0   115.0   142.0   169.0   272.0  \n",
       "Horizontal_Distance_To_Fire_Points  -277.0   781.0  1361.0  2084.0  8075.0  \n",
       "Cover_Type                             0.0     0.0     1.0     1.0     6.0  "
      ]
     },
     "execution_count": 9,
     "metadata": {},
     "output_type": "execute_result"
    }
   ],
   "source": [
    "train.describe().T"
   ]
  },
  {
   "cell_type": "markdown",
   "id": "0fbdfd30",
   "metadata": {
    "papermill": {
     "duration": 0.032035,
     "end_time": "2021-12-06T11:22:51.073804",
     "exception": false,
     "start_time": "2021-12-06T11:22:51.041769",
     "status": "completed"
    },
    "tags": []
   },
   "source": [
    "# Add More Features\n",
    "\n",
    "Thanks to [@lucamassaron](https://www.kaggle.com/lucamassaron) for [this discussion](https://www.kaggle.com/c/tabular-playground-series-dec-2021/discussion/291839)."
   ]
  },
  {
   "cell_type": "code",
   "execution_count": 10,
   "id": "0d2c12a0",
   "metadata": {
    "execution": {
     "iopub.execute_input": "2021-12-06T11:22:51.151063Z",
     "iopub.status.busy": "2021-12-06T11:22:51.148600Z",
     "iopub.status.idle": "2021-12-06T11:22:54.028029Z",
     "shell.execute_reply": "2021-12-06T11:22:54.027334Z",
     "shell.execute_reply.started": "2021-12-06T10:45:44.880030Z"
    },
    "papermill": {
     "duration": 2.921133,
     "end_time": "2021-12-06T11:22:54.028214",
     "exception": false,
     "start_time": "2021-12-06T11:22:51.107081",
     "status": "completed"
    },
    "tags": []
   },
   "outputs": [],
   "source": [
    "def r(x):\n",
    "    if x+180>360:\n",
    "        return x-180\n",
    "    else:\n",
    "        return x+180\n",
    "\n",
    "train['Aspect2'] = train.Aspect.map(r)\n",
    "test['Aspect2'] = test.Aspect.map(r)"
   ]
  },
  {
   "cell_type": "code",
   "execution_count": 11,
   "id": "a8e126f5",
   "metadata": {
    "execution": {
     "iopub.execute_input": "2021-12-06T11:22:54.098885Z",
     "iopub.status.busy": "2021-12-06T11:22:54.097794Z",
     "iopub.status.idle": "2021-12-06T11:22:54.149074Z",
     "shell.execute_reply": "2021-12-06T11:22:54.148466Z",
     "shell.execute_reply.started": "2021-12-06T10:45:47.673262Z"
    },
    "papermill": {
     "duration": 0.088212,
     "end_time": "2021-12-06T11:22:54.149248",
     "exception": false,
     "start_time": "2021-12-06T11:22:54.061036",
     "status": "completed"
    },
    "tags": []
   },
   "outputs": [],
   "source": [
    "train['Highwater'] = train.Vertical_Distance_To_Hydrology < 0\n",
    "test['Highwater'] = test.Vertical_Distance_To_Hydrology < 0\n",
    "\n",
    "train['DistHydro'] = train.Horizontal_Distance_To_Hydrology < 0\n",
    "test['DistHydro'] = test.Horizontal_Distance_To_Hydrology < 0\n",
    "\n",
    "train['DistRoad'] = train.Horizontal_Distance_To_Roadways < 0\n",
    "test['DistRoad'] = test.Horizontal_Distance_To_Roadways < 0\n",
    "\n",
    "train['DistFire'] = train.Horizontal_Distance_To_Fire_Points < 0\n",
    "test['DistFire'] = test.Horizontal_Distance_To_Fire_Points < 0\n",
    "\n",
    "train['Hillshade_3pm_is_zero'] = train.Hillshade_3pm == 0\n",
    "test['Hillshade_3pm_is_zero'] = test.Hillshade_3pm == 0"
   ]
  },
  {
   "cell_type": "code",
   "execution_count": 12,
   "id": "3769b46f",
   "metadata": {
    "execution": {
     "iopub.execute_input": "2021-12-06T11:22:54.221374Z",
     "iopub.status.busy": "2021-12-06T11:22:54.220659Z",
     "iopub.status.idle": "2021-12-06T11:22:54.259943Z",
     "shell.execute_reply": "2021-12-06T11:22:54.259286Z",
     "shell.execute_reply.started": "2021-12-06T10:45:47.719411Z"
    },
    "papermill": {
     "duration": 0.076162,
     "end_time": "2021-12-06T11:22:54.260115",
     "exception": false,
     "start_time": "2021-12-06T11:22:54.183953",
     "status": "completed"
    },
    "tags": []
   },
   "outputs": [],
   "source": [
    "train['EHiElv'] = train['Horizontal_Distance_To_Roadways'] * train['Elevation']\n",
    "test['EHiElv'] = test['Horizontal_Distance_To_Roadways'] * test['Elevation']\n",
    "\n",
    "train['EViElv'] = train['Vertical_Distance_To_Hydrology'] * train['Elevation']\n",
    "test['EViElv'] = test['Vertical_Distance_To_Hydrology'] * test['Elevation']"
   ]
  },
  {
   "cell_type": "code",
   "execution_count": 13,
   "id": "0657a87f",
   "metadata": {
    "execution": {
     "iopub.execute_input": "2021-12-06T11:22:54.337979Z",
     "iopub.status.busy": "2021-12-06T11:22:54.335401Z",
     "iopub.status.idle": "2021-12-06T11:22:54.381293Z",
     "shell.execute_reply": "2021-12-06T11:22:54.380463Z",
     "shell.execute_reply.started": "2021-12-06T10:45:47.749668Z"
    },
    "papermill": {
     "duration": 0.088345,
     "end_time": "2021-12-06T11:22:54.381485",
     "exception": false,
     "start_time": "2021-12-06T11:22:54.293140",
     "status": "completed"
    },
    "tags": []
   },
   "outputs": [],
   "source": [
    "train['EVDtH'] = train.Elevation-train.Vertical_Distance_To_Hydrology\n",
    "test['EVDtH'] = test.Elevation-test.Vertical_Distance_To_Hydrology\n",
    "\n",
    "train['EHDtH'] = train.Elevation-train.Horizontal_Distance_To_Hydrology*0.2\n",
    "test['EHDtH'] = test.Elevation-test.Horizontal_Distance_To_Hydrology*0.2"
   ]
  },
  {
   "cell_type": "code",
   "execution_count": 14,
   "id": "4d76d7f6",
   "metadata": {
    "execution": {
     "iopub.execute_input": "2021-12-06T11:22:54.450972Z",
     "iopub.status.busy": "2021-12-06T11:22:54.449976Z",
     "iopub.status.idle": "2021-12-06T11:22:54.771986Z",
     "shell.execute_reply": "2021-12-06T11:22:54.771312Z",
     "shell.execute_reply.started": "2021-12-06T10:45:47.791009Z"
    },
    "papermill": {
     "duration": 0.358061,
     "end_time": "2021-12-06T11:22:54.772158",
     "exception": false,
     "start_time": "2021-12-06T11:22:54.414097",
     "status": "completed"
    },
    "tags": []
   },
   "outputs": [],
   "source": [
    "train['Distanse_to_Hydrolody'] = (train['Horizontal_Distance_To_Hydrology']**2+train['Vertical_Distance_To_Hydrology']**2)**0.5\n",
    "test['Distanse_to_Hydrolody'] = (test['Horizontal_Distance_To_Hydrology']**2+test['Vertical_Distance_To_Hydrology']**2)**0.5\n",
    "\n",
    "train['Hydro_Fire_1'] = train['Horizontal_Distance_To_Hydrology']+train['Horizontal_Distance_To_Fire_Points']\n",
    "test['Hydro_Fire_1'] = test['Horizontal_Distance_To_Hydrology']+test['Horizontal_Distance_To_Fire_Points']\n",
    "\n",
    "train['Hydro_Fire_2'] = abs(train['Horizontal_Distance_To_Hydrology']-train['Horizontal_Distance_To_Fire_Points'])\n",
    "test['Hydro_Fire_2'] = abs(test['Horizontal_Distance_To_Hydrology']-test['Horizontal_Distance_To_Fire_Points'])\n",
    "\n",
    "train['Hydro_Road_1'] = abs(train['Horizontal_Distance_To_Hydrology']+train['Horizontal_Distance_To_Roadways'])\n",
    "test['Hydro_Road_1'] = abs(test['Horizontal_Distance_To_Hydrology']+test['Horizontal_Distance_To_Roadways'])\n",
    "\n",
    "train['Hydro_Road_2'] = abs(train['Horizontal_Distance_To_Hydrology']-train['Horizontal_Distance_To_Roadways'])\n",
    "test['Hydro_Road_2'] = abs(test['Horizontal_Distance_To_Hydrology']-test['Horizontal_Distance_To_Roadways'])\n",
    "\n",
    "train['Fire_Road_1'] = abs(train['Horizontal_Distance_To_Fire_Points']+train['Horizontal_Distance_To_Roadways'])\n",
    "test['Fire_Road_1'] = abs(test['Horizontal_Distance_To_Fire_Points']+test['Horizontal_Distance_To_Roadways'])\n",
    "\n",
    "train['Fire_Road_2'] = abs(train['Horizontal_Distance_To_Fire_Points']-train['Horizontal_Distance_To_Roadways'])\n",
    "test['Fire_Road_2'] = abs(test['Horizontal_Distance_To_Fire_Points']-test['Horizontal_Distance_To_Roadways'])"
   ]
  },
  {
   "cell_type": "code",
   "execution_count": 15,
   "id": "067c2b10",
   "metadata": {
    "execution": {
     "iopub.execute_input": "2021-12-06T11:22:54.842371Z",
     "iopub.status.busy": "2021-12-06T11:22:54.841217Z",
     "iopub.status.idle": "2021-12-06T11:22:54.892922Z",
     "shell.execute_reply": "2021-12-06T11:22:54.892229Z",
     "shell.execute_reply.started": "2021-12-06T10:45:48.067146Z"
    },
    "papermill": {
     "duration": 0.088209,
     "end_time": "2021-12-06T11:22:54.893105",
     "exception": false,
     "start_time": "2021-12-06T11:22:54.804896",
     "status": "completed"
    },
    "tags": []
   },
   "outputs": [],
   "source": [
    "train[\"new_f1\"] = train[\"Elevation\"] + train[\"Horizontal_Distance_To_Roadways\"] + train[\"Horizontal_Distance_To_Fire_Points\"]\n",
    "test[\"new_f1\"] = test[\"Elevation\"] + test[\"Horizontal_Distance_To_Roadways\"] + test[\"Horizontal_Distance_To_Fire_Points\"]\n",
    "\n",
    "train[\"new_f2\"] = (train[\"Hillshade_Noon\"] + train[\"Hillshade_3pm\"]) - train[\"Hillshade_9am\"]\n",
    "test[\"new_f2\"] = (test[\"Hillshade_Noon\"] + test[\"Hillshade_3pm\"]) - test[\"Hillshade_9am\"]"
   ]
  },
  {
   "cell_type": "code",
   "execution_count": 16,
   "id": "683d308a",
   "metadata": {
    "execution": {
     "iopub.execute_input": "2021-12-06T11:22:54.967759Z",
     "iopub.status.busy": "2021-12-06T11:22:54.966633Z",
     "iopub.status.idle": "2021-12-06T11:22:54.968855Z",
     "shell.execute_reply": "2021-12-06T11:22:54.969373Z",
     "shell.execute_reply.started": "2021-12-06T10:45:48.104813Z"
    },
    "papermill": {
     "duration": 0.043438,
     "end_time": "2021-12-06T11:22:54.969584",
     "exception": false,
     "start_time": "2021-12-06T11:22:54.926146",
     "status": "completed"
    },
    "tags": []
   },
   "outputs": [],
   "source": [
    "feature_cols += [\"new_f1\", \"new_f2\", \"Aspect2\", \"Highwater\", \"EVDtH\", \"EHDtH\",  'EHiElv', 'EViElv', 'Hillshade_3pm_is_zero',\n",
    "                 \"Distanse_to_Hydrolody\", \"Hydro_Fire_1\", \"Hydro_Fire_2\", \"Hydro_Road_1\", \"Hydro_Road_2\", \"Fire_Road_1\", \"Fire_Road_2\"]\n",
    "cnt_cols += [\"new_f1\", \"new_f2\", \"Aspect2\", \"EVDtH\", \"EHDtH\", 'EHiElv', 'EViElv', \n",
    "                 \"Distanse_to_Hydrolody\", \"Hydro_Fire_1\", \"Hydro_Fire_2\", \"Hydro_Road_1\", \"Hydro_Road_2\", \"Fire_Road_1\", \"Fire_Road_2\"]\n",
    "bin_cols += [\"Highwater\", 'Hillshade_3pm_is_zero']"
   ]
  },
  {
   "cell_type": "markdown",
   "id": "ec5f955b",
   "metadata": {
    "papermill": {
     "duration": 0.032505,
     "end_time": "2021-12-06T11:22:55.036182",
     "exception": false,
     "start_time": "2021-12-06T11:22:55.003677",
     "status": "completed"
    },
    "tags": []
   },
   "source": [
    "# Mutual Information"
   ]
  },
  {
   "cell_type": "code",
   "execution_count": 17,
   "id": "c0bed774",
   "metadata": {
    "execution": {
     "iopub.execute_input": "2021-12-06T11:22:55.112435Z",
     "iopub.status.busy": "2021-12-06T11:22:55.111255Z",
     "iopub.status.idle": "2021-12-06T11:23:03.132586Z",
     "shell.execute_reply": "2021-12-06T11:23:03.133123Z",
     "shell.execute_reply.started": "2021-12-06T10:45:48.114401Z"
    },
    "papermill": {
     "duration": 8.063582,
     "end_time": "2021-12-06T11:23:03.133366",
     "exception": false,
     "start_time": "2021-12-06T11:22:55.069784",
     "status": "completed"
    },
    "tags": []
   },
   "outputs": [
    {
     "name": "stdout",
     "output_type": "stream",
     "text": [
      "CPU times: user 7.99 s, sys: 33.3 ms, total: 8.02 s\n",
      "Wall time: 8.02 s\n"
     ]
    }
   ],
   "source": [
    "%%time\n",
    "x = train.iloc[:5000,:][feature_cols].copy()\n",
    "y = train.iloc[:5000,:]['Cover_Type'].copy()\n",
    "mi_scores = mutual_info_regression(x, y)\n",
    "mi_scores = pd.Series(mi_scores, name=\"MI Scores\", index=x.columns)\n",
    "mi_scores = mi_scores.sort_values(ascending=False)"
   ]
  },
  {
   "cell_type": "code",
   "execution_count": 18,
   "id": "c46f5063",
   "metadata": {
    "execution": {
     "iopub.execute_input": "2021-12-06T11:23:03.213177Z",
     "iopub.status.busy": "2021-12-06T11:23:03.211779Z",
     "iopub.status.idle": "2021-12-06T11:23:03.671143Z",
     "shell.execute_reply": "2021-12-06T11:23:03.670378Z",
     "shell.execute_reply.started": "2021-12-06T10:45:56.247732Z"
    },
    "papermill": {
     "duration": 0.50469,
     "end_time": "2021-12-06T11:23:03.671358",
     "exception": false,
     "start_time": "2021-12-06T11:23:03.166668",
     "status": "completed"
    },
    "tags": []
   },
   "outputs": [
    {
     "data": {
      "image/png": "[encoded data removed]",
      "text/plain": [
       "<Figure size 1440x504 with 1 Axes>"
      ]
     },
     "metadata": {},
     "output_type": "display_data"
    }
   ],
   "source": [
    "top = 10\n",
    "plt.figure(figsize=(20,7))\n",
    "fig = sns.barplot(x=mi_scores.values[:top], y=mi_scores.index[:top], palette=\"summer\")\n",
    "plt.title(f\"Top {top} Strong Relationships Between Feature Columns and Target Column\")\n",
    "plt.xlabel(\"Relationship with Target\")\n",
    "plt.ylabel(\"Feature Columns\")\n",
    "plt.savefig(\"mi_scores.png\")\n",
    "plt.show()"
   ]
  },
  {
   "cell_type": "markdown",
   "id": "7296a001",
   "metadata": {
    "papermill": {
     "duration": 0.033689,
     "end_time": "2021-12-06T11:23:03.739781",
     "exception": false,
     "start_time": "2021-12-06T11:23:03.706092",
     "status": "completed"
    },
    "tags": []
   },
   "source": [
    "# Scale Data"
   ]
  },
  {
   "cell_type": "code",
   "execution_count": 19,
   "id": "08b8025a",
   "metadata": {
    "execution": {
     "iopub.execute_input": "2021-12-06T11:23:03.816632Z",
     "iopub.status.busy": "2021-12-06T11:23:03.815132Z",
     "iopub.status.idle": "2021-12-06T11:23:10.521364Z",
     "shell.execute_reply": "2021-12-06T11:23:10.520649Z",
     "shell.execute_reply.started": "2021-12-06T10:45:56.737264Z"
    },
    "papermill": {
     "duration": 6.747848,
     "end_time": "2021-12-06T11:23:10.521557",
     "exception": false,
     "start_time": "2021-12-06T11:23:03.773709",
     "status": "completed"
    },
    "tags": []
   },
   "outputs": [],
   "source": [
    "sc = RobustScaler()\n",
    "train[cnt_cols] = sc.fit_transform(train[cnt_cols]).astype(np.float32)\n",
    "test[cnt_cols] = sc.transform(test[cnt_cols]).astype(np.float32)"
   ]
  },
  {
   "cell_type": "markdown",
   "id": "4d4439eb",
   "metadata": {
    "papermill": {
     "duration": 0.03384,
     "end_time": "2021-12-06T11:23:10.589806",
     "exception": false,
     "start_time": "2021-12-06T11:23:10.555966",
     "status": "completed"
    },
    "tags": []
   },
   "source": [
    "# Neural Network Model"
   ]
  },
  {
   "cell_type": "code",
   "execution_count": 20,
   "id": "ad8f5a38",
   "metadata": {
    "execution": {
     "iopub.execute_input": "2021-12-06T11:23:10.666273Z",
     "iopub.status.busy": "2021-12-06T11:23:10.664754Z",
     "iopub.status.idle": "2021-12-06T11:23:11.237433Z",
     "shell.execute_reply": "2021-12-06T11:23:11.236823Z",
     "shell.execute_reply.started": "2021-12-06T10:46:05.448509Z"
    },
    "papermill": {
     "duration": 0.613605,
     "end_time": "2021-12-06T11:23:11.237597",
     "exception": false,
     "start_time": "2021-12-06T11:23:10.623992",
     "status": "completed"
    },
    "tags": []
   },
   "outputs": [],
   "source": [
    "x_cnt = train[cnt_cols].values\n",
    "x_bin = train[bin_cols].values\n",
    "y  = train['Cover_Type'].values"
   ]
  },
  {
   "cell_type": "code",
   "execution_count": 21,
   "id": "6395a2cd",
   "metadata": {
    "execution": {
     "iopub.execute_input": "2021-12-06T11:23:11.309897Z",
     "iopub.status.busy": "2021-12-06T11:23:11.309257Z",
     "iopub.status.idle": "2021-12-06T11:23:12.821275Z",
     "shell.execute_reply": "2021-12-06T11:23:12.821778Z"
    },
    "papermill": {
     "duration": 1.549843,
     "end_time": "2021-12-06T11:23:12.822026",
     "exception": false,
     "start_time": "2021-12-06T11:23:11.272183",
     "status": "completed"
    },
    "tags": []
   },
   "outputs": [
    {
     "data": {
      "image/png": "[encoded data removed]",
      "text/plain": [
       "<IPython.core.display.Image object>"
      ]
     },
     "execution_count": 21,
     "metadata": {},
     "output_type": "execute_result"
    }
   ],
   "source": [
    "def get_model():\n",
    "    AF = \"swish\"\n",
    "    input_1 = layers.Input(shape=(x_cnt.shape[-1]), name=\"continuous\")\n",
    "    x_1 = layers.Dense(128, activation=AF)(input_1)\n",
    "    x_1 = layers.Dense(128, activation=AF)(x_1)\n",
    "    \n",
    "    input_2 = layers.Input(shape=x_bin.shape[-1], name=\"categories\")\n",
    "    x_2 = layers.Dense(128, activation=AF)(input_2)\n",
    "    x_2 = layers.Dense(128, activation=AF)(x_2)\n",
    "\n",
    "    x = layers.Concatenate()([x_1,x_2])\n",
    "    x = layers.Dense(64, activation=AF)(x)\n",
    "    x = layers.Dense(128, activation=AF)(x)\n",
    "    output = layers.Dense(7, activation=\"softmax\", name=\"output\")(x)\n",
    "\n",
    "    model = tf.keras.Model([input_1,input_2], output)\n",
    "    return model\n",
    "\n",
    "with strategy.scope():\n",
    "    model = get_model()\n",
    "    model.compile(loss=\"sparse_categorical_crossentropy\", optimizer=tf.keras.optimizers.Adam(), metrics=[\"accuracy\"])\n",
    "    \n",
    "tf.keras.utils.plot_model(model, show_shapes=True)"
   ]
  },
  {
   "cell_type": "markdown",
   "id": "883ca175",
   "metadata": {
    "papermill": {
     "duration": 0.035911,
     "end_time": "2021-12-06T11:23:12.894958",
     "exception": false,
     "start_time": "2021-12-06T11:23:12.859047",
     "status": "completed"
    },
    "tags": []
   },
   "source": [
    "## WandB Log"
   ]
  },
  {
   "cell_type": "code",
   "execution_count": 22,
   "id": "81d9dc0e",
   "metadata": {
    "_kg_hide-output": true,
    "execution": {
     "iopub.execute_input": "2021-12-06T11:23:12.983510Z",
     "iopub.status.busy": "2021-12-06T11:23:12.982366Z",
     "iopub.status.idle": "2021-12-06T11:23:19.805393Z",
     "shell.execute_reply": "2021-12-06T11:23:19.804748Z",
     "shell.execute_reply.started": "2021-12-06T10:46:14.097964Z"
    },
    "papermill": {
     "duration": 6.874076,
     "end_time": "2021-12-06T11:23:19.805578",
     "exception": false,
     "start_time": "2021-12-06T11:23:12.931502",
     "status": "completed"
    },
    "tags": []
   },
   "outputs": [
    {
     "name": "stderr",
     "output_type": "stream",
     "text": [
      "\u001b[34m\u001b[1mwandb\u001b[0m: Currently logged in as: \u001b[33mkaveh\u001b[0m (use `wandb login --relogin` to force relogin)\n"
     ]
    },
    {
     "data": {
      "text/html": [
       "\n",
       "                    Syncing run <strong><a href=\"https://wandb.ai/kaveh/TPS_Dec/runs/1t5b0e8c\" target=\"_blank\">training_log</a></strong> to <a href=\"https://wandb.ai/kaveh/TPS_Dec\" target=\"_blank\">Weights & Biases</a> (<a href=\"https://docs.wandb.com/integrations/jupyter.html\" target=\"_blank\">docs</a>).<br/>\n",
       "\n",
       "                "
      ],
      "text/plain": [
       "<IPython.core.display.HTML object>"
      ]
     },
     "metadata": {},
     "output_type": "display_data"
    }
   ],
   "source": [
    "run = wandb.init(project=\"TPS_Dec\", name=\"training_log\", entity=\"kaveh\", anonymous=anony)\n",
    "\n",
    "wandb.config = {\n",
    "  \"learning_rate\": 0.001,\n",
    "  \"epochs\": 40,\n",
    "  \"batch_size\": 4096,\n",
    "  \"competition\": \"TPS Dec\",\n",
    "  \"Notebook\": \"TPS Dec 2021 - TensorFlow NN (TPU) and W&B\"\n",
    "}\n",
    "\n",
    "wandb.log({\"MI scores of features\": wandb.Image(\"./mi_scores.png\")})\n",
    "wandb.log({\"Model Architecture\": wandb.Image(\"./model.png\")})"
   ]
  },
  {
   "cell_type": "code",
   "execution_count": 23,
   "id": "311d9601",
   "metadata": {
    "execution": {
     "iopub.execute_input": "2021-12-06T11:23:19.897455Z",
     "iopub.status.busy": "2021-12-06T11:23:19.896673Z",
     "iopub.status.idle": "2021-12-06T11:28:00.020855Z",
     "shell.execute_reply": "2021-12-06T11:28:00.020054Z",
     "shell.execute_reply.started": "2021-12-06T10:49:44.877448Z"
    },
    "papermill": {
     "duration": 280.177834,
     "end_time": "2021-12-06T11:28:00.021050",
     "exception": false,
     "start_time": "2021-12-06T11:23:19.843216",
     "status": "completed"
    },
    "tags": []
   },
   "outputs": [
    {
     "name": "stdout",
     "output_type": "stream",
     "text": [
      "Epoch 1/40\n",
      "782/782 [==============================] - 20s 20ms/step - loss: 0.3726 - accuracy: 0.8898 - val_loss: 0.1364 - val_accuracy: 0.9465\n",
      "Epoch 2/40\n",
      "782/782 [==============================] - 13s 16ms/step - loss: 0.1075 - accuracy: 0.9542 - val_loss: 0.1197 - val_accuracy: 0.9515\n",
      "Epoch 3/40\n",
      "782/782 [==============================] - 12s 16ms/step - loss: 0.0969 - accuracy: 0.9576 - val_loss: 0.1126 - val_accuracy: 0.9532\n",
      "Epoch 4/40\n",
      "782/782 [==============================] - 13s 17ms/step - loss: 0.0930 - accuracy: 0.9583 - val_loss: 0.1068 - val_accuracy: 0.9546\n",
      "Epoch 5/40\n",
      "782/782 [==============================] - 13s 17ms/step - loss: 0.0899 - accuracy: 0.9593 - val_loss: 0.1040 - val_accuracy: 0.9555\n",
      "Epoch 6/40\n",
      "782/782 [==============================] - 13s 17ms/step - loss: 0.0877 - accuracy: 0.9599 - val_loss: 0.1034 - val_accuracy: 0.9557\n",
      "Epoch 7/40\n",
      "782/782 [==============================] - 13s 17ms/step - loss: 0.0860 - accuracy: 0.9604 - val_loss: 0.0999 - val_accuracy: 0.9564\n",
      "Epoch 8/40\n",
      "782/782 [==============================] - 13s 17ms/step - loss: 0.0843 - accuracy: 0.9610 - val_loss: 0.0987 - val_accuracy: 0.9563\n",
      "Epoch 9/40\n",
      "782/782 [==============================] - 12s 16ms/step - loss: 0.0835 - accuracy: 0.9610 - val_loss: 0.0991 - val_accuracy: 0.9564\n",
      "\n",
      "Epoch 00009: ReduceLROnPlateau reducing learning rate to 0.0005000000237487257.\n",
      "Epoch 10/40\n",
      "782/782 [==============================] - 13s 16ms/step - loss: 0.0808 - accuracy: 0.9618 - val_loss: 0.0951 - val_accuracy: 0.9577\n",
      "Epoch 11/40\n",
      "782/782 [==============================] - 13s 17ms/step - loss: 0.0804 - accuracy: 0.9618 - val_loss: 0.0942 - val_accuracy: 0.9578\n",
      "Epoch 12/40\n",
      "782/782 [==============================] - 13s 16ms/step - loss: 0.0793 - accuracy: 0.9623 - val_loss: 0.0943 - val_accuracy: 0.9575\n",
      "\n",
      "Epoch 00012: ReduceLROnPlateau reducing learning rate to 0.0002500000118743628.\n",
      "Epoch 13/40\n",
      "782/782 [==============================] - 13s 17ms/step - loss: 0.0783 - accuracy: 0.9623 - val_loss: 0.0925 - val_accuracy: 0.9583\n",
      "Epoch 14/40\n",
      "782/782 [==============================] - 13s 16ms/step - loss: 0.0777 - accuracy: 0.9627 - val_loss: 0.0924 - val_accuracy: 0.9582\n",
      "Epoch 15/40\n",
      "782/782 [==============================] - 13s 16ms/step - loss: 0.0777 - accuracy: 0.9625 - val_loss: 0.0926 - val_accuracy: 0.9579\n",
      "\n",
      "Epoch 00015: ReduceLROnPlateau reducing learning rate to 0.0001250000059371814.\n",
      "Epoch 16/40\n",
      "782/782 [==============================] - 13s 17ms/step - loss: 0.0770 - accuracy: 0.9627 - val_loss: 0.0915 - val_accuracy: 0.9584\n",
      "Epoch 17/40\n",
      "782/782 [==============================] - 13s 17ms/step - loss: 0.0767 - accuracy: 0.9628 - val_loss: 0.0917 - val_accuracy: 0.9584\n",
      "Epoch 18/40\n",
      "782/782 [==============================] - 13s 16ms/step - loss: 0.0769 - accuracy: 0.9627 - val_loss: 0.0917 - val_accuracy: 0.9584\n",
      "\n",
      "Epoch 00018: ReduceLROnPlateau reducing learning rate to 0.0001.\n",
      "Epoch 19/40\n",
      "782/782 [==============================] - 13s 17ms/step - loss: 0.0764 - accuracy: 0.9630 - val_loss: 0.0913 - val_accuracy: 0.9584\n",
      "Epoch 20/40\n",
      "782/782 [==============================] - 13s 17ms/step - loss: 0.0764 - accuracy: 0.9630 - val_loss: 0.0913 - val_accuracy: 0.9584\n",
      "Restoring model weights from the end of the best epoch.\n",
      "Epoch 00020: early stopping\n"
     ]
    }
   ],
   "source": [
    "cb_wb = WandbCallback()\n",
    "cb_es = tf.keras.callbacks.EarlyStopping(monitor=\"val_accuracy\", patience=4, mode=\"max\", restore_best_weights=True, verbose=1)\n",
    "cb_lr = tf.keras.callbacks.ReduceLROnPlateau(monitor=\"val_accuracy\", factor=0.5, patience=2, mode=\"max\", min_lr=0.0001, verbose=1)\n",
    "\n",
    "history = model.fit((x_cnt, x_bin), \n",
    "                    y, \n",
    "                    epochs=40, \n",
    "                    validation_split=0.2, \n",
    "                    batch_size=4096, \n",
    "                    validation_batch_size=4096,\n",
    "                    callbacks=[cb_es, cb_lr, cb_wb])"
   ]
  },
  {
   "cell_type": "code",
   "execution_count": 24,
   "id": "59a4c394",
   "metadata": {
    "execution": {
     "iopub.execute_input": "2021-12-06T11:28:02.485361Z",
     "iopub.status.busy": "2021-12-06T11:28:02.484276Z",
     "iopub.status.idle": "2021-12-06T11:28:03.199099Z",
     "shell.execute_reply": "2021-12-06T11:28:03.199671Z",
     "shell.execute_reply.started": "2021-12-06T10:55:30.741285Z"
    },
    "papermill": {
     "duration": 1.950213,
     "end_time": "2021-12-06T11:28:03.199894",
     "exception": false,
     "start_time": "2021-12-06T11:28:01.249681",
     "status": "completed"
    },
    "tags": []
   },
   "outputs": [
    {
     "data": {
      "image/png": "[encoded data removed]",
      "text/plain": [
       "<Figure size 1800x504 with 2 Axes>"
      ]
     },
     "metadata": {},
     "output_type": "display_data"
    }
   ],
   "source": [
    "plt.figure(figsize=(25,7))\n",
    "acc=history.history['accuracy']\n",
    "val_acc=history.history['val_accuracy']\n",
    "loss=history.history['loss']\n",
    "val_loss=history.history['val_loss']\n",
    "\n",
    "epochs=range(1,len(acc)+1) \n",
    "ax1 = plt.subplot(1,2,1)\n",
    "ax1.plot(epochs, acc, 'r')\n",
    "ax1.plot(epochs, val_acc, 'b')\n",
    "ax1.set_xticks([i for i in epochs])\n",
    "ax1.set_title('Training and validation Accuracy')\n",
    "ax1.legend([\"Training\", \"Validation\" ])\n",
    "ax1.set_xlabel(\"epochs\")\n",
    "ax1.set_ylabel(\"Accuracy\")\n",
    "\n",
    "ax2 = plt.subplot(1,2,2)\n",
    "ax2.plot(epochs, loss, 'r')\n",
    "ax2.plot(epochs, val_loss, 'b')\n",
    "ax2.set_xticks([i for i in epochs])\n",
    "ax2.legend([\"Training\", \"Validation\" ])\n",
    "ax2.set_xlabel(\"Epochs\")\n",
    "ax2.set_ylabel(\"Loss\")\n",
    "ax2.set_title('Training and validation loss')\n",
    "\n",
    "plt.show()"
   ]
  },
  {
   "cell_type": "markdown",
   "id": "0ccc222b",
   "metadata": {
    "papermill": {
     "duration": 1.319474,
     "end_time": "2021-12-06T11:28:05.752334",
     "exception": false,
     "start_time": "2021-12-06T11:28:04.432860",
     "status": "completed"
    },
    "tags": []
   },
   "source": [
    "# Predict"
   ]
  },
  {
   "cell_type": "code",
   "execution_count": 25,
   "id": "ae15c814",
   "metadata": {
    "execution": {
     "iopub.execute_input": "2021-12-06T11:28:08.228489Z",
     "iopub.status.busy": "2021-12-06T11:28:08.226706Z",
     "iopub.status.idle": "2021-12-06T11:29:03.721091Z",
     "shell.execute_reply": "2021-12-06T11:29:03.720066Z",
     "shell.execute_reply.started": "2021-12-06T10:55:36.320375Z"
    },
    "papermill": {
     "duration": 56.733793,
     "end_time": "2021-12-06T11:29:03.721415",
     "exception": false,
     "start_time": "2021-12-06T11:28:06.987622",
     "status": "completed"
    },
    "tags": []
   },
   "outputs": [],
   "source": [
    "preds = model.predict((test[cnt_cols].values, test[bin_cols].values))\n",
    "p = np.argmax(preds, axis=1) + 1"
   ]
  },
  {
   "cell_type": "code",
   "execution_count": 26,
   "id": "2137df92",
   "metadata": {
    "execution": {
     "iopub.execute_input": "2021-12-06T11:29:06.268685Z",
     "iopub.status.busy": "2021-12-06T11:29:06.267975Z",
     "iopub.status.idle": "2021-12-06T11:29:06.700462Z",
     "shell.execute_reply": "2021-12-06T11:29:06.699571Z",
     "shell.execute_reply.started": "2021-12-06T10:56:32.639864Z"
    },
    "papermill": {
     "duration": 1.668981,
     "end_time": "2021-12-06T11:29:06.700673",
     "exception": false,
     "start_time": "2021-12-06T11:29:05.031692",
     "status": "completed"
    },
    "tags": []
   },
   "outputs": [
    {
     "data": {
      "image/png": "[encoded data removed]",
      "text/plain": [
       "<Figure size 720x360 with 1 Axes>"
      ]
     },
     "metadata": {},
     "output_type": "display_data"
    }
   ],
   "source": [
    "plt.figure(figsize=(10,5))\n",
    "ax = sns.countplot(x=p)\n",
    "plt.title(\"Predictions\")\n",
    "plt.xlabel(\"Cover Type\")\n",
    "ax.bar_label(ax.containers[0])\n",
    "plt.savefig(\"predictions.png\")\n",
    "plt.show()"
   ]
  },
  {
   "cell_type": "code",
   "execution_count": 27,
   "id": "e8549e1b",
   "metadata": {
    "_kg_hide-output": false,
    "execution": {
     "iopub.execute_input": "2021-12-06T11:29:09.231952Z",
     "iopub.status.busy": "2021-12-06T11:29:09.230898Z",
     "iopub.status.idle": "2021-12-06T11:30:08.890434Z",
     "shell.execute_reply": "2021-12-06T11:30:08.890949Z",
     "shell.execute_reply.started": "2021-12-06T10:56:42.485354Z"
    },
    "papermill": {
     "duration": 60.951962,
     "end_time": "2021-12-06T11:30:08.891152",
     "exception": false,
     "start_time": "2021-12-06T11:29:07.939190",
     "status": "completed"
    },
    "tags": []
   },
   "outputs": [
    {
     "data": {
      "text/html": [
       "<br/>Waiting for W&B process to finish, PID 175... <strong style=\"color:green\">(success).</strong>"
      ],
      "text/plain": [
       "<IPython.core.display.HTML object>"
      ]
     },
     "metadata": {},
     "output_type": "display_data"
    },
    {
     "data": {
      "application/vnd.jupyter.widget-view+json": {
       "model_id": "643d793a1c5a460cb918619e118b9bc7",
       "version_major": 2,
       "version_minor": 0
      },
      "text/plain": [
       "VBox(children=(Label(value=' 0.93MB of 0.94MB uploaded (0.00MB deduped)\\r'), FloatProgress(value=0.98580757545…"
      ]
     },
     "metadata": {},
     "output_type": "display_data"
    },
    {
     "data": {
      "text/html": [
       "<style>\n",
       "    table.wandb td:nth-child(1) { padding: 0 10px; text-align: right }\n",
       "    .wandb-row { display: flex; flex-direction: row; flex-wrap: wrap; width: 100% }\n",
       "    .wandb-col { display: flex; flex-direction: column; flex-basis: 100%; flex: 1; padding: 10px; }\n",
       "    </style>\n",
       "<div class=\"wandb-row\"><div class=\"wandb-col\">\n",
       "<h3>Run history:</h3><br/><table class=\"wandb\"><tr><td>accuracy</td><td>▁▆▇▇▇▇▇█████████████</td></tr><tr><td>epoch</td><td>▁▁▂▂▂▃▃▄▄▄▅▅▅▆▆▇▇▇██</td></tr><tr><td>loss</td><td>█▃▂▂▂▂▂▁▁▁▁▁▁▁▁▁▁▁▁▁</td></tr><tr><td>lr</td><td>█████████▄▄▄▂▂▂▁▁▁▁▁</td></tr><tr><td>val_accuracy</td><td>▁▄▅▆▆▆▇▇▇██▇████████</td></tr><tr><td>val_loss</td><td>█▅▄▃▃▃▂▂▂▂▁▁▁▁▁▁▁▁▁▁</td></tr></table><br/></div><div class=\"wandb-col\">\n",
       "<h3>Run summary:</h3><br/><table class=\"wandb\"><tr><td>accuracy</td><td>0.96297</td></tr><tr><td>best_epoch</td><td>18</td></tr><tr><td>best_val_loss</td><td>0.09126</td></tr><tr><td>epoch</td><td>19</td></tr><tr><td>loss</td><td>0.07632</td></tr><tr><td>lr</td><td>0.0001</td></tr><tr><td>val_accuracy</td><td>0.95842</td></tr><tr><td>val_loss</td><td>0.09133</td></tr></table>\n",
       "</div></div>\n",
       "Synced 5 W&B file(s), 4 media file(s), 0 artifact file(s) and 1 other file(s)\n",
       "<br/>Synced <strong style=\"color:#cdcd00\">training_log</strong>: <a href=\"https://wandb.ai/kaveh/TPS_Dec/runs/1t5b0e8c\" target=\"_blank\">https://wandb.ai/kaveh/TPS_Dec/runs/1t5b0e8c</a><br/>\n",
       "Find logs at: <code>./wandb/run-20211206_112312-1t5b0e8c/logs</code><br/>\n"
      ],
      "text/plain": [
       "<IPython.core.display.HTML object>"
      ]
     },
     "metadata": {},
     "output_type": "display_data"
    }
   ],
   "source": [
    "wandb.log({\"Predictions Stats\": wandb.Image(\"./predictions.png\")})\n",
    "wandb.finish()"
   ]
  },
  {
   "cell_type": "markdown",
   "id": "abc8d4db",
   "metadata": {
    "papermill": {
     "duration": 1.222519,
     "end_time": "2021-12-06T11:30:11.339790",
     "exception": false,
     "start_time": "2021-12-06T11:30:10.117271",
     "status": "completed"
    },
    "tags": []
   },
   "source": [
    "# Submission"
   ]
  },
  {
   "cell_type": "code",
   "execution_count": 28,
   "id": "837c871a",
   "metadata": {
    "execution": {
     "iopub.execute_input": "2021-12-06T11:30:13.802326Z",
     "iopub.status.busy": "2021-12-06T11:30:13.801602Z",
     "iopub.status.idle": "2021-12-06T11:30:15.767322Z",
     "shell.execute_reply": "2021-12-06T11:30:15.766744Z",
     "shell.execute_reply.started": "2021-12-06T10:57:21.828169Z"
    },
    "papermill": {
     "duration": 3.203496,
     "end_time": "2021-12-06T11:30:15.767469",
     "exception": false,
     "start_time": "2021-12-06T11:30:12.563973",
     "status": "completed"
    },
    "tags": []
   },
   "outputs": [
    {
     "data": {
      "text/html": [
       "<div>\n",
       "<style scoped>\n",
       "    .dataframe tbody tr th:only-of-type {\n",
       "        vertical-align: middle;\n",
       "    }\n",
       "\n",
       "    .dataframe tbody tr th {\n",
       "        vertical-align: top;\n",
       "    }\n",
       "\n",
       "    .dataframe thead th {\n",
       "        text-align: right;\n",
       "    }\n",
       "</style>\n",
       "<table border=\"1\" class=\"dataframe\">\n",
       "  <thead>\n",
       "    <tr style=\"text-align: right;\">\n",
       "      <th></th>\n",
       "      <th>Id</th>\n",
       "      <th>Cover_Type</th>\n",
       "    </tr>\n",
       "  </thead>\n",
       "  <tbody>\n",
       "    <tr>\n",
       "      <th>0</th>\n",
       "      <td>4000000</td>\n",
       "      <td>2</td>\n",
       "    </tr>\n",
       "    <tr>\n",
       "      <th>1</th>\n",
       "      <td>4000001</td>\n",
       "      <td>2</td>\n",
       "    </tr>\n",
       "    <tr>\n",
       "      <th>2</th>\n",
       "      <td>4000002</td>\n",
       "      <td>2</td>\n",
       "    </tr>\n",
       "    <tr>\n",
       "      <th>3</th>\n",
       "      <td>4000003</td>\n",
       "      <td>2</td>\n",
       "    </tr>\n",
       "    <tr>\n",
       "      <th>4</th>\n",
       "      <td>4000004</td>\n",
       "      <td>2</td>\n",
       "    </tr>\n",
       "  </tbody>\n",
       "</table>\n",
       "</div>"
      ],
      "text/plain": [
       "        Id  Cover_Type\n",
       "0  4000000           2\n",
       "1  4000001           2\n",
       "2  4000002           2\n",
       "3  4000003           2\n",
       "4  4000004           2"
      ]
     },
     "execution_count": 28,
     "metadata": {},
     "output_type": "execute_result"
    }
   ],
   "source": [
    "sample_submission['Cover_Type'] = p\n",
    "sample_submission.to_csv(\"submission.csv\", index=False)\n",
    "sample_submission.head()"
   ]
  }
 ],
 "metadata": {
  "kernelspec": {
   "display_name": "Python 3",
   "language": "python",
   "name": "python3"
  },
  "language_info": {
   "codemirror_mode": {
    "name": "ipython",
    "version": 3
   },
   "file_extension": ".py",
   "mimetype": "text/x-python",
   "name": "python",
   "nbconvert_exporter": "python",
   "pygments_lexer": "ipython3",
   "version": "3.7.10"
  },
  "papermill": {
   "default_parameters": {},
   "duration": 540.203738,
   "end_time": "2021-12-06T11:30:20.044442",
   "environment_variables": {},
   "exception": null,
   "input_path": "__notebook__.ipynb",
   "output_path": "__notebook__.ipynb",
   "parameters": {},
   "start_time": "2021-12-06T11:21:19.840704",
   "version": "2.3.3"
  },
  "widgets": {
   "application/vnd.jupyter.widget-state+json": {
    "state": {
     "16c7117e30a34c428fae336625150610": {
      "model_module": "@jupyter-widgets/controls",
      "model_module_version": "1.5.0",
      "model_name": "FloatProgressModel",
      "state": {
       "_dom_classes": [],
       "_model_module": "@jupyter-widgets/controls",
       "_model_module_version": "1.5.0",
       "_model_name": "FloatProgressModel",
       "_view_count": null,
       "_view_module": "@jupyter-widgets/controls",
       "_view_module_version": "1.5.0",
       "_view_name": "ProgressView",
       "bar_style": "",
       "description": "",
       "description_tooltip": null,
       "layout": "IPY_MODEL_ccec4d2e7739490e9947ba2c765fb79c",
       "max": 1.0,
       "min": 0.0,
       "orientation": "horizontal",
       "style": "IPY_MODEL_caa6a42d7ea942d59740c8d334cdc180",
       "value": 1.0
      }
     },
     "1780b1ce5e224e11b877de5adc7f1fcb": {
      "model_module": "@jupyter-widgets/base",
      "model_module_version": "1.2.0",
      "model_name": "LayoutModel",
      "state": {
       "_model_module": "@jupyter-widgets/base",
       "_model_module_version": "1.2.0",
       "_model_name": "LayoutModel",
       "_view_count": null,
       "_view_module": "@jupyter-widgets/base",
       "_view_module_version": "1.2.0",
       "_view_name": "LayoutView",
       "align_content": null,
       "align_items": null,
       "align_self": null,
       "border": null,
       "bottom": null,
       "display": null,
       "flex": null,
       "flex_flow": null,
       "grid_area": null,
       "grid_auto_columns": null,
       "grid_auto_flow": null,
       "grid_auto_rows": null,
       "grid_column": null,
       "grid_gap": null,
       "grid_row": null,
       "grid_template_areas": null,
       "grid_template_columns": null,
       "grid_template_rows": null,
       "height": null,
       "justify_content": null,
       "justify_items": null,
       "left": null,
       "margin": null,
       "max_height": null,
       "max_width": null,
       "min_height": null,
       "min_width": null,
       "object_fit": null,
       "object_position": null,
       "order": null,
       "overflow": null,
       "overflow_x": null,
       "overflow_y": null,
       "padding": null,
       "right": null,
       "top": null,
       "visibility": null,
       "width": null
      }
     },
     "355e09f1a063436c90d4dd84490ac842": {
      "model_module": "@jupyter-widgets/base",
      "model_module_version": "1.2.0",
      "model_name": "LayoutModel",
      "state": {
       "_model_module": "@jupyter-widgets/base",
       "_model_module_version": "1.2.0",
       "_model_name": "LayoutModel",
       "_view_count": null,
       "_view_module": "@jupyter-widgets/base",
       "_view_module_version": "1.2.0",
       "_view_name": "LayoutView",
       "align_content": null,
       "align_items": null,
       "align_self": null,
       "border": null,
       "bottom": null,
       "display": null,
       "flex": null,
       "flex_flow": null,
       "grid_area": null,
       "grid_auto_columns": null,
       "grid_auto_flow": null,
       "grid_auto_rows": null,
       "grid_column": null,
       "grid_gap": null,
       "grid_row": null,
       "grid_template_areas": null,
       "grid_template_columns": null,
       "grid_template_rows": null,
       "height": null,
       "justify_content": null,
       "justify_items": null,
       "left": null,
       "margin": null,
       "max_height": null,
       "max_width": null,
       "min_height": null,
       "min_width": null,
       "object_fit": null,
       "object_position": null,
       "order": null,
       "overflow": null,
       "overflow_x": null,
       "overflow_y": null,
       "padding": null,
       "right": null,
       "top": null,
       "visibility": null,
       "width": null
      }
     },
     "643d793a1c5a460cb918619e118b9bc7": {
      "model_module": "@jupyter-widgets/controls",
      "model_module_version": "1.5.0",
      "model_name": "VBoxModel",
      "state": {
       "_dom_classes": [],
       "_model_module": "@jupyter-widgets/controls",
       "_model_module_version": "1.5.0",
       "_model_name": "VBoxModel",
       "_view_count": null,
       "_view_module": "@jupyter-widgets/controls",
       "_view_module_version": "1.5.0",
       "_view_name": "VBoxView",
       "box_style": "",
       "children": [
        "IPY_MODEL_6849923a1b78420c8114d90ade31ef27",
        "IPY_MODEL_16c7117e30a34c428fae336625150610"
       ],
       "layout": "IPY_MODEL_1780b1ce5e224e11b877de5adc7f1fcb"
      }
     },
     "6849923a1b78420c8114d90ade31ef27": {
      "model_module": "@jupyter-widgets/controls",
      "model_module_version": "1.5.0",
      "model_name": "LabelModel",
      "state": {
       "_dom_classes": [],
       "_model_module": "@jupyter-widgets/controls",
       "_model_module_version": "1.5.0",
       "_model_name": "LabelModel",
       "_view_count": null,
       "_view_module": "@jupyter-widgets/controls",
       "_view_module_version": "1.5.0",
       "_view_name": "LabelView",
       "description": "",
       "description_tooltip": null,
       "layout": "IPY_MODEL_355e09f1a063436c90d4dd84490ac842",
       "placeholder": "​",
       "style": "IPY_MODEL_a6e16bcd5d2e41ae8db66ce6a052c2e1",
       "value": " 0.96MB of 0.96MB uploaded (0.00MB deduped)\r"
      }
     },
     "a6e16bcd5d2e41ae8db66ce6a052c2e1": {
      "model_module": "@jupyter-widgets/controls",
      "model_module_version": "1.5.0",
      "model_name": "DescriptionStyleModel",
      "state": {
       "_model_module": "@jupyter-widgets/controls",
       "_model_module_version": "1.5.0",
       "_model_name": "DescriptionStyleModel",
       "_view_count": null,
       "_view_module": "@jupyter-widgets/base",
       "_view_module_version": "1.2.0",
       "_view_name": "StyleView",
       "description_width": ""
      }
     },
     "caa6a42d7ea942d59740c8d334cdc180": {
      "model_module": "@jupyter-widgets/controls",
      "model_module_version": "1.5.0",
      "model_name": "ProgressStyleModel",
      "state": {
       "_model_module": "@jupyter-widgets/controls",
       "_model_module_version": "1.5.0",
       "_model_name": "ProgressStyleModel",
       "_view_count": null,
       "_view_module": "@jupyter-widgets/base",
       "_view_module_version": "1.2.0",
       "_view_name": "StyleView",
       "bar_color": null,
       "description_width": ""
      }
     },
     "ccec4d2e7739490e9947ba2c765fb79c": {
      "model_module": "@jupyter-widgets/base",
      "model_module_version": "1.2.0",
      "model_name": "LayoutModel",
      "state": {
       "_model_module": "@jupyter-widgets/base",
       "_model_module_version": "1.2.0",
       "_model_name": "LayoutModel",
       "_view_count": null,
       "_view_module": "@jupyter-widgets/base",
       "_view_module_version": "1.2.0",
       "_view_name": "LayoutView",
       "align_content": null,
       "align_items": null,
       "align_self": null,
       "border": null,
       "bottom": null,
       "display": null,
       "flex": null,
       "flex_flow": null,
       "grid_area": null,
       "grid_auto_columns": null,
       "grid_auto_flow": null,
       "grid_auto_rows": null,
       "grid_column": null,
       "grid_gap": null,
       "grid_row": null,
       "grid_template_areas": null,
       "grid_template_columns": null,
       "grid_template_rows": null,
       "height": null,
       "justify_content": null,
       "justify_items": null,
       "left": null,
       "margin": null,
       "max_height": null,
       "max_width": null,
       "min_height": null,
       "min_width": null,
       "object_fit": null,
       "object_position": null,
       "order": null,
       "overflow": null,
       "overflow_x": null,
       "overflow_y": null,
       "padding": null,
       "right": null,
       "top": null,
       "visibility": null,
       "width": null
      }
     }
    },
    "version_major": 2,
    "version_minor": 0
   }
  }
 },
 "nbformat": 4,
 "nbformat_minor": 5
}
