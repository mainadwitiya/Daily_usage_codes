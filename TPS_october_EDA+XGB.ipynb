{
 "cells": [
  {
   "cell_type": "code",
   "execution_count": null,
   "id": "c1cd12b7",
   "metadata": {},
   "outputs": [],
   "source": [
    "import os\n",
    "import numpy as np\n",
    "import pandas as pd \n",
    "import matplotlib.pyplot as plt\n",
    "import seaborn as sns\n",
    "import plotly.figure_factory as ff\n",
    "import plotly.graph_objects as go\n",
    "from matplotlib.ticker import FormatStrFormatter\n",
    "import datatable as dt\n",
    "from xgboost import XGBClassifier\n",
    "from sklearn.model_selection import train_test_split\n",
    "from sklearn.model_selection import StratifiedKFold\n",
    "from sklearn.metrics import roc_curve, auc\n",
    "import optuna\n",
    "\n",
    "\n",
    "import warnings\n",
    "warnings.filterwarnings('ignore')\n",
    "\n",
    "for dirname, _, filenames in os.walk(''):\n",
    "    for filename in filenames:\n",
    "        print(os.path.join(dirname, filename))"
   ]
  },
  {
   "cell_type": "code",
   "execution_count": null,
   "id": "7ec4bc8a",
   "metadata": {},
   "outputs": [],
   "source": [
    "train_df = pd.read_csv(r'train.csv', index_col='id', nrows=1000000)\n",
    "test_df = pd.read_csv(r'test.csv', index_col='id', nrows=500000)\n",
    "submission_df= pd.read_csv(r'sample_submission.csv', index_col='id', nrows=500000)"
   ]
  },
  {
   "cell_type": "code",
   "execution_count": null,
   "id": "c561b63a",
   "metadata": {},
   "outputs": [],
   "source": [
    "print(train_df.shape)\n",
    "print(test_df.shape)\n"
   ]
  },
  {
   "cell_type": "code",
   "execution_count": null,
   "id": "e01c000d",
   "metadata": {},
   "outputs": [],
   "source": [
    "train_df.describe().T"
   ]
  },
  {
   "cell_type": "code",
   "execution_count": null,
   "id": "4dec5a6f",
   "metadata": {},
   "outputs": [],
   "source": [
    "#Lets find traget variable distribution\n",
    "target_varibale=train_df['target']"
   ]
  },
  {
   "cell_type": "code",
   "execution_count": null,
   "id": "8b17d9b4",
   "metadata": {},
   "outputs": [],
   "source": [
    "import seaborn as sns\n",
    "pal = ['#5ddef4','#8e99f3']\n",
    "plt=sns.countplot(x=train_df.target,palette=pal)\n",
    "plt.set_title('Target  distribution', fontsize=20, y=1.05)"
   ]
  },
  {
   "cell_type": "code",
   "execution_count": null,
   "id": "d19167c5",
   "metadata": {},
   "outputs": [],
   "source": [
    "display(train_df.isna().sum().sum())\n",
    "display(test_df.isna().sum().sum())"
   ]
  },
  {
   "cell_type": "code",
   "execution_count": null,
   "id": "39200b1a",
   "metadata": {},
   "outputs": [],
   "source": [
    "categorical_features=[]\n",
    "numerical_features=[]\n",
    "for i in train_df.columns:\n",
    "    if train_df[i].dtype=='float64':\n",
    "#         print('yes')\n",
    "        numerical_features.append(i)\n",
    "    elif i!='target':\n",
    "        categorical_features.append(i)\n",
    "#         print('no')"
   ]
  },
  {
   "cell_type": "code",
   "execution_count": null,
   "id": "4ea3e792",
   "metadata": {},
   "outputs": [],
   "source": [
    "display(len(categorical_features))\n",
    "display(len(numerical_features))"
   ]
  },
  {
   "cell_type": "code",
   "execution_count": null,
   "id": "52710196",
   "metadata": {},
   "outputs": [],
   "source": [
    "df_num_features = pd.concat([train_df[numerical_features], train_df['target']], axis=1)"
   ]
  },
  {
   "cell_type": "code",
   "execution_count": null,
   "id": "3104134a",
   "metadata": {},
   "outputs": [],
   "source": [
    "import matplotlib.pyplot as plt\n",
    "df_cat = pd.concat([train_df[categorical_features], train_df['target']], axis=1)\n",
    "fig, ax = plt.subplots(1, 1, figsize=(16 , 16))\n",
    "corr = df_cat.sample(10000, random_state=2021).corr()\n",
    "\n",
    "mask = np.zeros_like(corr, dtype=np.bool)\n",
    "mask[np.triu_indices_from(mask)] = True\n",
    "\n",
    "sns.heatmap(corr, ax=ax, square=True, center=0, linewidth=1,\n",
    "        cmap=sns.diverging_palette(0,255,sep=77, as_cmap=True),vmax=0.5, vmin=-0.5,\n",
    "        cbar_kws={\"shrink\": .85}, mask=mask )\n",
    "ax.set_title('Correlation heatmap: Categorical features', fontsize=24, y= 1.05)\n",
    "plt.show()"
   ]
  },
  {
   "cell_type": "code",
   "execution_count": null,
   "id": "be1c4b97",
   "metadata": {},
   "outputs": [],
   "source": [
    "!pip install sklearn"
   ]
  },
  {
   "cell_type": "code",
   "execution_count": null,
   "id": "f81b36aa",
   "metadata": {},
   "outputs": [],
   "source": [
    "import pandas as pd\n",
    "import numpy as np\n",
    "from pathlib import Path\n",
    "from xgboost import XGBClassifier\n",
    "#from lightgbm import LGBMClassifier\n",
    "\n",
    "from sklearn.model_selection import cross_validate\n",
    "import warnings \n",
    "warnings.filterwarnings('ignore')\n",
    "\n",
    "\n",
    "df_train = pd.read_csv( \"train.csv\",\n",
    "    index_col='id',\n",
    "\n",
    ")\n",
    "\n",
    "X_test = pd.read_csv( \"test.csv\", index_col='id')\n",
    "\n",
    "FEATURES = df_train.columns[:-1]\n",
    "TARGET = df_train.columns[-1]\n",
    "\n",
    "X = df_train.loc[:, FEATURES]\n",
    "y = df_train.loc[:, TARGET]\n",
    "\n",
    "seed = 0\n",
    "fold = 5\n"
   ]
  },
  {
   "cell_type": "code",
   "execution_count": null,
   "id": "f193f240",
   "metadata": {},
   "outputs": [],
   "source": [
    "params = {\n",
    "    'max_depth': 6,\n",
    "    'n_estimators': 9500,\n",
    "    'subsample': 0.7,\n",
    "    'colsample_bytree': 0.2,\n",
    "    'colsample_bylevel': 0.6000000000000001,\n",
    "    'min_child_weight': 56.41980735551558,\n",
    "    'reg_lambda': 75.56651890088857,\n",
    "    'reg_alpha': 0.11766857055687065,\n",
    "    'gamma': 0.6407823221122686,\n",
    "    'booster': 'gbtree',\n",
    "    'eval_metric': 'auc',\n",
    "    'tree_method': 'gpu_hist',\n",
    "    'predictor': 'gpu_predictor',\n",
    "    'use_label_encoder': False\n",
    "    }"
   ]
  },
  {
   "cell_type": "code",
   "execution_count": null,
   "id": "bebe2c35",
   "metadata": {},
   "outputs": [],
   "source": [
    "from xgboost import XGBClassifier\n",
    "model_xgb = XGBClassifier(max_depth=6,\n",
    "    subsample=.7,\n",
    "    colsample_bytree=0.2,\n",
    "    colsample_bylevel=0.6,\n",
    "    min_child_weight=50,reg_lambda=75,reg_alpha=0.11,gamma=0.6,booster='gbtree',use_label_encoder=False,\n",
    "    n_jobs=-1,\n",
    "    tree_method='gpu_hist',\n",
    "    sampling_method='gradient_based', \n",
    "    random_state= seed,\n",
    ")\n",
    "def score(X, y, model_xgb, cv):\n",
    "    scoring = [\"roc_auc\"]\n",
    "    scores = cross_validate(\n",
    "        model_xgb, X, y, scoring=scoring, cv=cv, return_train_score=True\n",
    "    )\n",
    "    scores = pd.DataFrame(scores).T\n",
    "    return scores.assign(\n",
    "        mean = lambda x: x.mean(axis=1),\n",
    "        std = lambda x: x.std(axis=1),\n",
    "    )\n",
    "\n",
    "scores = score(X, y, model_xgb, cv=fold)\n",
    "display(scores)"
   ]
  },
  {
   "cell_type": "code",
   "execution_count": null,
   "id": "94a01903",
   "metadata": {},
   "outputs": [],
   "source": [
    "!pip install xgboost"
   ]
  },
  {
   "cell_type": "code",
   "execution_count": null,
   "id": "cff33dcb",
   "metadata": {},
   "outputs": [],
   "source": [
    "from catboost import Pool, CatBoostClassifier, cv, CatBoostRegressor\n",
    "\n",
    "model = CatBoostClassifier(iterations=1000,\n",
    "                           learning_rate=0.1,\n",
    "                           l2_leaf_reg=3.5, \n",
    "                           depth=8, rsm=0.98,\n",
    "                           loss_function= 'Logloss',\n",
    "                           eval_metric='AUC',use_best_model=True,\n",
    "                           random_seed=42)\n",
    "\n"
   ]
  },
  {
   "cell_type": "code",
   "execution_count": null,
   "id": "e8b95b2f",
   "metadata": {},
   "outputs": [],
   "source": [
    "from sklearn.model_selection import train_test_split\n",
    "xtrain,xtest,ytrain,ytest = train_test_split(X,y,train_size=0.99,random_state=1236)"
   ]
  },
  {
   "cell_type": "code",
   "execution_count": null,
   "id": "2fac30e3",
   "metadata": {},
   "outputs": [],
   "source": [
    "\n",
    "cate_features_index = np.where(X.dtypes != float)[0]"
   ]
  },
  {
   "cell_type": "code",
   "execution_count": null,
   "id": "b1901139",
   "metadata": {},
   "outputs": [],
   "source": [
    "X_test = pd.read_csv(\"test.csv\", index_col='id')\n",
    "y_pred_xgb = pd.Series(\n",
    "    joblib_LR_model.predict_proba(X_test)[:, 1],\n",
    "    index=X_test.index,\n",
    "    name=TARGET,\n",
    ")\n",
    "y_pred_xgb.to_csv(\"itsokay.csv\")\n"
   ]
  },
  {
   "cell_type": "code",
   "execution_count": 1,
   "id": "b4adb1a2",
   "metadata": {
    "scrolled": false
   },
   "outputs": [
    {
     "data": {
      "text/html": [
       "<style type='text/css'>\n",
       ".datatable table.frame { margin-bottom: 0; }\n",
       ".datatable table.frame thead { border-bottom: none; }\n",
       ".datatable table.frame tr.coltypes td {  color: #FFFFFF;  line-height: 6px;  padding: 0 0.5em;}\n",
       ".datatable .bool    { background: #DDDD99; }\n",
       ".datatable .object  { background: #565656; }\n",
       ".datatable .int     { background: #5D9E5D; }\n",
       ".datatable .float   { background: #4040CC; }\n",
       ".datatable .str     { background: #CC4040; }\n",
       ".datatable .time    { background: #40CC40; }\n",
       ".datatable .row_index {  background: var(--jp-border-color3);  border-right: 1px solid var(--jp-border-color0);  color: var(--jp-ui-font-color3);  font-size: 9px;}\n",
       ".datatable .frame tbody td { text-align: left; }\n",
       ".datatable .frame tr.coltypes .row_index {  background: var(--jp-border-color0);}\n",
       ".datatable th:nth-child(2) { padding-left: 12px; }\n",
       ".datatable .hellipsis {  color: var(--jp-cell-editor-border-color);}\n",
       ".datatable .vellipsis {  background: var(--jp-layout-color0);  color: var(--jp-cell-editor-border-color);}\n",
       ".datatable .na {  color: var(--jp-cell-editor-border-color);  font-size: 80%;}\n",
       ".datatable .sp {  opacity: 0.25;}\n",
       ".datatable .footer { font-size: 9px; }\n",
       ".datatable .frame_dimensions {  background: var(--jp-border-color3);  border-top: 1px solid var(--jp-border-color0);  color: var(--jp-ui-font-color3);  display: inline-block;  opacity: 0.6;  padding: 1px 10px 1px 5px;}\n",
       "</style>\n"
      ],
      "text/plain": [
       "<IPython.core.display.HTML object>"
      ]
     },
     "metadata": {},
     "output_type": "display_data"
    }
   ],
   "source": [
    "import pandas as pd\n",
    "import numpy as np\n",
    "import datatable as dt\n",
    "from xgboost import XGBClassifier\n",
    "from sklearn.model_selection import train_test_split\n",
    "from sklearn.model_selection import StratifiedKFold\n",
    "from sklearn.metrics import roc_curve, auc\n",
    "import optuna"
   ]
  },
  {
   "cell_type": "code",
   "execution_count": null,
   "id": "a1b6ff51",
   "metadata": {},
   "outputs": [],
   "source": [
    "\n",
    "train = dt.fread('train.csv').to_pandas().drop('id', axis=1)\n",
    "\n",
    "test = dt.fread('test.csv').to_pandas().drop('id', axis=1)"
   ]
  },
  {
   "cell_type": "code",
   "execution_count": null,
   "id": "3018ca49",
   "metadata": {},
   "outputs": [],
   "source": [
    "X = train.drop('target', axis=1).copy()\n",
    "y = train['target'].copy()\n",
    "X_test = test.copy()\n",
    "\n",
    "del train\n",
    "del test"
   ]
  },
  {
   "cell_type": "code",
   "execution_count": null,
   "id": "7b42e732",
   "metadata": {},
   "outputs": [],
   "source": [
    "params = {\n",
    "    'max_depth': 6,\n",
    "    'n_estimators': 4000,\n",
    "    'subsample': 0.72,\n",
    "    'colsample_bytree': 0.21,\n",
    "    'colsample_bylevel': 0.6,\n",
    "    'min_child_weight': 57,\n",
    "    'reg_lambda': 75,\n",
    "    'reg_alpha': 0.12,\n",
    "    'gamma': 0.65,\n",
    "    'booster': 'gbtree',\n",
    "    'eval_metric': 'auc',\n",
    "    'tree_method': 'gpu_hist',\n",
    "    'predictor': 'gpu_predictor',\n",
    "    'use_label_encoder': False\n",
    "    }"
   ]
  },
  {
   "cell_type": "code",
   "execution_count": null,
   "id": "54b68e75",
   "metadata": {},
   "outputs": [],
   "source": [
    "%%time\n",
    "kf = StratifiedKFold(n_splits=5, shuffle=True, random_state=786)\n",
    "\n",
    "preds = []\n",
    "scores = []\n",
    "\n",
    "for fold, (idx_train, idx_valid) in enumerate(kf.split(X, y)):\n",
    "    X_train, y_train = X.iloc[idx_train], y.iloc[idx_train]\n",
    "    X_valid, y_valid = X.iloc[idx_valid], y.iloc[idx_valid]\n",
    "    model3 = XGBClassifier(**params)\n",
    "    \n",
    "    model3.fit(X_train,y_train,\n",
    "              eval_set=[(X_train, y_train),(X_valid,y_valid)],\n",
    "              early_stopping_rounds=200,\n",
    "              verbose=True)\n",
    "    \n",
    "    pred_valid = model3.predict_proba(X_valid)[:,1]\n",
    "    fpr, tpr, _ = roc_curve(y_valid, pred_valid)\n",
    "    score = auc(fpr, tpr)\n",
    "    scores.append(score)\n",
    "    \n",
    "    print(f\"Fold: {fold + 1} Score: {score}\")\n",
    "    print('||'*40)\n",
    "    \n",
    "    test_preds = model3.predict_proba(X_test)[:,1]\n",
    "    preds.append(test_preds)\n",
    "    \n",
    "print(f\"Overall Validation Score: {np.mean(scores)}\")"
   ]
  },
  {
   "cell_type": "code",
   "execution_count": null,
   "id": "dbe9512c",
   "metadata": {},
   "outputs": [],
   "source": [
    "ss = dt.fread('sample_submission.csv').to_pandas()\n",
    "predictions = np.mean(np.column_stack(preds),axis=1)\n",
    "\n",
    "ss['target'] = predictions\n",
    "ss.to_csv('xgb1111.csv', index=False)\n",
    "ss.head()"
   ]
  },
  {
   "cell_type": "code",
   "execution_count": null,
   "id": "b3f899cc",
   "metadata": {},
   "outputs": [],
   "source": []
  },
  {
   "cell_type": "code",
   "execution_count": null,
   "id": "073fb36a",
   "metadata": {},
   "outputs": [],
   "source": []
  },
  {
   "cell_type": "code",
   "execution_count": null,
   "id": "22dd9904",
   "metadata": {},
   "outputs": [],
   "source": []
  }
 ],
 "metadata": {
  "kernelspec": {
   "display_name": "Python 3 (ipykernel)",
   "language": "python",
   "name": "python3"
  },
  "language_info": {
   "codemirror_mode": {
    "name": "ipython",
    "version": 3
   },
   "file_extension": ".py",
   "mimetype": "text/x-python",
   "name": "python",
   "nbconvert_exporter": "python",
   "pygments_lexer": "ipython3",
   "version": "3.8.10"
  }
 },
 "nbformat": 4,
 "nbformat_minor": 5
}
